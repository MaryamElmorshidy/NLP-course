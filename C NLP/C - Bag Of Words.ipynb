{
 "cells": [
  {
   "cell_type": "code",
   "execution_count": 53,
   "metadata": {},
   "outputs": [],
   "source": [
    "import nltk\n",
    "import re\n",
    "import numpy as np\n",
    "from nltk.corpus import stopwords"
   ]
  },
  {
   "cell_type": "code",
   "execution_count": 54,
   "metadata": {},
   "outputs": [],
   "source": [
    "# for use it in function tokenize\n",
    "def extraction (sentence):\n",
    "    sent=re.sub(\"[^\\w]+\",' ', sentence).split()\n",
    "    sent_clean=[w.lower() for w in sent if w not in stopwords.words(\"english\")]\n",
    "    return sent_clean"
   ]
  },
  {
   "cell_type": "code",
   "execution_count": 55,
   "metadata": {},
   "outputs": [],
   "source": [
    "def tokenize (sentences):\n",
    "    words =[]\n",
    "    for sent in sentences:\n",
    "        w= extraction(sent)\n",
    "        words.extend(w)\n",
    "    words=sorted(list(set(words)))   \n",
    "    return words"
   ]
  },
  {
   "cell_type": "code",
   "execution_count": 56,
   "metadata": {},
   "outputs": [],
   "source": [
    "# difference between append vs extend\n",
    "\n",
    "# S1 = ['it','was','the','best','of']\n",
    "# S2 = ['i','love','python','so','much']\n",
    "# S3 = ['he','was','playing','the','game']\n",
    "#w=[]\n",
    "#w.append(S1)\n",
    "#w.append(S2)\n",
    "#w.append(S3)\n",
    "# w= [['it','was','the','best','of'] , ['i','love','python','so','much'] , ['he','was','playing','the','game']]\n",
    "\n",
    "#t=[]\n",
    "#t.extend(S1)\n",
    "#t.extend(S2)\n",
    "#t.extend(S3)\n",
    "# t = ['it','was','the','best','of','i','love','python','so','much','he','was','playing','the','game']\n"
   ]
  },
  {
   "cell_type": "code",
   "execution_count": 57,
   "metadata": {},
   "outputs": [],
   "source": [
    "text = \"Mary and Samantha arrived at the bus station early but waited until noon for the bus\""
   ]
  },
  {
   "cell_type": "code",
   "execution_count": 58,
   "metadata": {},
   "outputs": [
    {
     "name": "stdout",
     "output_type": "stream",
     "text": [
      "['mary', 'samantha', 'arrived', 'bus', 'station', 'early', 'waited', 'noon', 'bus']\n"
     ]
    }
   ],
   "source": [
    "print(extraction(text))"
   ]
  },
  {
   "cell_type": "code",
   "execution_count": 59,
   "metadata": {},
   "outputs": [
    {
     "name": "stdout",
     "output_type": "stream",
     "text": [
      "['arrived', 'bus', 'early', 'mary', 'noon', 'samantha', 'station', 'waited']\n"
     ]
    }
   ],
   "source": [
    "print(tokenize(extraction(text)))"
   ]
  },
  {
   "cell_type": "code",
   "execution_count": 73,
   "metadata": {},
   "outputs": [],
   "source": [
    "sentences = [\"Joe waited for the train\",\n",
    "                \"The train was late\",\n",
    "                \"Mary and Samantha took the bus\",\n",
    "               \"I looked for Mary and Samantha at the bus station\",\n",
    "                \"Mary and Samantha arrived at the bus station early but waited until noon for the bus\"]\n"
   ]
  },
  {
   "cell_type": "code",
   "execution_count": 74,
   "metadata": {},
   "outputs": [
    {
     "name": "stdout",
     "output_type": "stream",
     "text": [
      "['arrived', 'bus', 'early', 'i', 'joe', 'late', 'looked', 'mary', 'noon', 'samantha', 'station', 'the', 'took', 'train', 'waited']\n"
     ]
    }
   ],
   "source": [
    "print(tokenize(sentences))"
   ]
  },
  {
   "cell_type": "code",
   "execution_count": 79,
   "metadata": {},
   "outputs": [],
   "source": [
    "def BOW (sentences):\n",
    "    vocab=tokenize(sentences)\n",
    "    print (f\"words :\\n {vocab}\\n\\n\")\n",
    "    for sent in sentences:\n",
    "        words=extraction(sent)\n",
    "        bag=np.zeros(len(vocab))\n",
    "        for w in words:\n",
    "            for i,word in enumerate(vocab):\n",
    "                if word==w:\n",
    "                    bag[i]=+1\n",
    "        print(f\"{sent}\\n{bag}\\n------------------------------------------\")            "
   ]
  },
  {
   "cell_type": "code",
   "execution_count": 80,
   "metadata": {},
   "outputs": [
    {
     "name": "stdout",
     "output_type": "stream",
     "text": [
      "words :\n",
      " ['arrived', 'bus', 'early', 'i', 'joe', 'late', 'looked', 'mary', 'noon', 'samantha', 'station', 'the', 'took', 'train', 'waited']\n",
      "\n",
      "\n",
      "Joe waited for the train\n",
      "[0. 0. 0. 0. 1. 0. 0. 0. 0. 0. 0. 0. 0. 1. 1.]\n",
      "------------------------------------------\n",
      "The train was late\n",
      "[0. 0. 0. 0. 0. 1. 0. 0. 0. 0. 0. 1. 0. 1. 0.]\n",
      "------------------------------------------\n",
      "Mary and Samantha took the bus\n",
      "[0. 1. 0. 0. 0. 0. 0. 1. 0. 1. 0. 0. 1. 0. 0.]\n",
      "------------------------------------------\n",
      "I looked for Mary and Samantha at the bus station\n",
      "[0. 1. 0. 1. 0. 0. 1. 1. 0. 1. 1. 0. 0. 0. 0.]\n",
      "------------------------------------------\n",
      "Mary and Samantha arrived at the bus station early but waited until noon for the bus\n",
      "[1. 1. 1. 0. 0. 0. 0. 1. 1. 1. 1. 0. 0. 0. 1.]\n",
      "------------------------------------------\n"
     ]
    }
   ],
   "source": [
    "BOW(sentences)"
   ]
  },
  {
   "cell_type": "code",
   "execution_count": 91,
   "metadata": {},
   "outputs": [
    {
     "name": "stdout",
     "output_type": "stream",
     "text": [
      "Joe waited for the train\n",
      "array :  [0 0 0 0 0 0 1 1 0 0 0 0 0 0 1 0 1 0 1 0]\n",
      "list :  [0, 0, 0, 0, 0, 0, 1, 1, 0, 0, 0, 0, 0, 0, 1, 0, 1, 0, 1, 0]\n",
      "--------------------------------------------\n",
      "The train was late\n",
      "array :  [0 0 0 0 0 0 0 0 1 0 0 0 0 0 1 0 1 0 0 1]\n",
      "list :  [0, 0, 0, 0, 0, 0, 0, 0, 1, 0, 0, 0, 0, 0, 1, 0, 1, 0, 0, 1]\n",
      "--------------------------------------------\n",
      "Mary and Samantha took the bus\n",
      "array :  [1 0 0 1 0 0 0 0 0 0 1 0 1 0 1 1 0 0 0 0]\n",
      "list :  [1, 0, 0, 1, 0, 0, 0, 0, 0, 0, 1, 0, 1, 0, 1, 1, 0, 0, 0, 0]\n",
      "--------------------------------------------\n",
      "I looked for Mary and Samantha at the bus station\n",
      "array :  [1 0 1 1 0 0 1 0 0 1 1 0 1 1 1 0 0 0 0 0]\n",
      "list :  [1, 0, 1, 1, 0, 0, 1, 0, 0, 1, 1, 0, 1, 1, 1, 0, 0, 0, 0, 0]\n",
      "--------------------------------------------\n",
      "Mary and Samantha arrived at the bus station early but waited until noon for the bus\n",
      "array :  [1 1 1 2 1 1 1 0 0 0 1 1 1 1 2 0 0 1 1 0]\n",
      "list :  [1, 1, 1, 2, 1, 1, 1, 0, 0, 0, 1, 1, 1, 1, 2, 0, 0, 1, 1, 0]\n",
      "--------------------------------------------\n"
     ]
    }
   ],
   "source": [
    "#BOW by sklearn\n",
    "from sklearn.feature_extraction.text import CountVectorizer\n",
    "vectorizer=CountVectorizer()\n",
    "sent=vectorizer.fit_transform(sentences)\n",
    "\n",
    "for i in range(len(sentences)):\n",
    "    print(sentences[i])\n",
    "    # as array\n",
    "    print(\"array : \",sent.toarray()[i])\n",
    "    # as list\n",
    "    print(\"list : \",list(sent.toarray()[i]))\n",
    "    print(\"--------------------------------------------\")"
   ]
  },
  {
   "cell_type": "code",
   "execution_count": null,
   "metadata": {},
   "outputs": [],
   "source": []
  },
  {
   "cell_type": "code",
   "execution_count": 93,
   "metadata": {},
   "outputs": [],
   "source": [
    "text = \"ذهب محمد و شريف الي المدرسة هذا اليوم\""
   ]
  },
  {
   "cell_type": "code",
   "execution_count": 94,
   "metadata": {},
   "outputs": [
    {
     "name": "stdout",
     "output_type": "stream",
     "text": [
      "['ذهب', 'محمد', 'و', 'شريف', 'الي', 'المدرسة', 'هذا', 'اليوم']\n"
     ]
    }
   ],
   "source": [
    "print(extraction(text))"
   ]
  },
  {
   "cell_type": "code",
   "execution_count": 95,
   "metadata": {},
   "outputs": [
    {
     "name": "stdout",
     "output_type": "stream",
     "text": [
      "['المدرسة', 'الي', 'اليوم', 'ذهب', 'شريف', 'محمد', 'هذا', 'و']\n"
     ]
    }
   ],
   "source": [
    "print(tokenize(extraction(text)))"
   ]
  },
  {
   "cell_type": "code",
   "execution_count": 96,
   "metadata": {},
   "outputs": [],
   "source": [
    "sentences = [\"ذهب محمد الي الجامعة\",\n",
    "                \"نجحت مني في الاختبار\",\n",
    "                \"تمكن محمد من السفر هذا اليوم\",\n",
    "               \"اعتقد ان جورج سيتصل بنا اليوم\",\n",
    "                \"لا اظن ان الاختبار سيكون سهلا\"]"
   ]
  },
  {
   "cell_type": "code",
   "execution_count": 97,
   "metadata": {},
   "outputs": [
    {
     "name": "stdout",
     "output_type": "stream",
     "text": [
      "words :\n",
      " ['اظن', 'اعتقد', 'الاختبار', 'الجامعة', 'السفر', 'الي', 'اليوم', 'ان', 'بنا', 'تمكن', 'جورج', 'ذهب', 'سهلا', 'سيتصل', 'سيكون', 'في', 'لا', 'محمد', 'من', 'مني', 'نجحت', 'هذا']\n",
      "\n",
      "\n",
      "ذهب محمد الي الجامعة\n",
      "[0. 0. 0. 1. 0. 1. 0. 0. 0. 0. 0. 1. 0. 0. 0. 0. 0. 1. 0. 0. 0. 0.]\n",
      "------------------------------------------\n",
      "نجحت مني في الاختبار\n",
      "[0. 0. 1. 0. 0. 0. 0. 0. 0. 0. 0. 0. 0. 0. 0. 1. 0. 0. 0. 1. 1. 0.]\n",
      "------------------------------------------\n",
      "تمكن محمد من السفر هذا اليوم\n",
      "[0. 0. 0. 0. 1. 0. 1. 0. 0. 1. 0. 0. 0. 0. 0. 0. 0. 1. 1. 0. 0. 1.]\n",
      "------------------------------------------\n",
      "اعتقد ان جورج سيتصل بنا اليوم\n",
      "[0. 1. 0. 0. 0. 0. 1. 1. 1. 0. 1. 0. 0. 1. 0. 0. 0. 0. 0. 0. 0. 0.]\n",
      "------------------------------------------\n",
      "لا اظن ان الاختبار سيكون سهلا\n",
      "[1. 0. 1. 0. 0. 0. 0. 1. 0. 0. 0. 0. 1. 0. 1. 0. 1. 0. 0. 0. 0. 0.]\n",
      "------------------------------------------\n"
     ]
    }
   ],
   "source": [
    "BOW(sentences)"
   ]
  },
  {
   "cell_type": "code",
   "execution_count": 98,
   "metadata": {},
   "outputs": [
    {
     "name": "stdout",
     "output_type": "stream",
     "text": [
      "ذهب محمد الي الجامعة\n",
      "array :  [0 0 0 1 0 1 0 0 0 0 0 1 0 0 0 0 0 1 0 0 0 0]\n",
      "list :  [0, 0, 0, 1, 0, 1, 0, 0, 0, 0, 0, 1, 0, 0, 0, 0, 0, 1, 0, 0, 0, 0]\n",
      "--------------------------------------------\n",
      "نجحت مني في الاختبار\n",
      "array :  [0 0 1 0 0 0 0 0 0 0 0 0 0 0 0 1 0 0 0 1 1 0]\n",
      "list :  [0, 0, 1, 0, 0, 0, 0, 0, 0, 0, 0, 0, 0, 0, 0, 1, 0, 0, 0, 1, 1, 0]\n",
      "--------------------------------------------\n",
      "تمكن محمد من السفر هذا اليوم\n",
      "array :  [0 0 0 0 1 0 1 0 0 1 0 0 0 0 0 0 0 1 1 0 0 1]\n",
      "list :  [0, 0, 0, 0, 1, 0, 1, 0, 0, 1, 0, 0, 0, 0, 0, 0, 0, 1, 1, 0, 0, 1]\n",
      "--------------------------------------------\n",
      "اعتقد ان جورج سيتصل بنا اليوم\n",
      "array :  [0 1 0 0 0 0 1 1 1 0 1 0 0 1 0 0 0 0 0 0 0 0]\n",
      "list :  [0, 1, 0, 0, 0, 0, 1, 1, 1, 0, 1, 0, 0, 1, 0, 0, 0, 0, 0, 0, 0, 0]\n",
      "--------------------------------------------\n",
      "لا اظن ان الاختبار سيكون سهلا\n",
      "array :  [1 0 1 0 0 0 0 1 0 0 0 0 1 0 1 0 1 0 0 0 0 0]\n",
      "list :  [1, 0, 1, 0, 0, 0, 0, 1, 0, 0, 0, 0, 1, 0, 1, 0, 1, 0, 0, 0, 0, 0]\n",
      "--------------------------------------------\n"
     ]
    }
   ],
   "source": [
    "#BOW by sklearn\n",
    "from sklearn.feature_extraction.text import CountVectorizer\n",
    "vectorizer=CountVectorizer()\n",
    "sent=vectorizer.fit_transform(sentences)\n",
    "\n",
    "for i in range(len(sentences)):\n",
    "    print(sentences[i])\n",
    "    # as array\n",
    "    print(\"array : \",sent.toarray()[i])\n",
    "    # as list\n",
    "    print(\"list : \",list(sent.toarray()[i]))\n",
    "    print(\"--------------------------------------------\")"
   ]
  },
  {
   "cell_type": "code",
   "execution_count": null,
   "metadata": {},
   "outputs": [],
   "source": []
  },
  {
   "cell_type": "code",
   "execution_count": null,
   "metadata": {},
   "outputs": [],
   "source": []
  }
 ],
 "metadata": {
  "kernelspec": {
   "display_name": "Python 3",
   "language": "python",
   "name": "python3"
  },
  "language_info": {
   "codemirror_mode": {
    "name": "ipython",
    "version": 3
   },
   "file_extension": ".py",
   "mimetype": "text/x-python",
   "name": "python",
   "nbconvert_exporter": "python",
   "pygments_lexer": "ipython3",
   "version": "3.8.5"
  }
 },
 "nbformat": 4,
 "nbformat_minor": 4
}
