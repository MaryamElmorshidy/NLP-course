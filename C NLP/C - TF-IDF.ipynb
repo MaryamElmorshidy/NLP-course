{
 "cells": [
  {
   "cell_type": "code",
   "execution_count": 184,
   "metadata": {},
   "outputs": [],
   "source": [
    "import pandas as pd"
   ]
  },
  {
   "cell_type": "code",
   "execution_count": 185,
   "metadata": {},
   "outputs": [],
   "source": [
    "d_A = 'the man went out for a walk'\n",
    "d_B = 'the children sat around the fire'"
   ]
  },
  {
   "cell_type": "code",
   "execution_count": 186,
   "metadata": {},
   "outputs": [
    {
     "name": "stdout",
     "output_type": "stream",
     "text": [
      "['the', 'man', 'went', 'out', 'for', 'a', 'walk']\n"
     ]
    }
   ],
   "source": [
    "BOW_A=d_A.split()\n",
    "print(BOW_A)"
   ]
  },
  {
   "cell_type": "code",
   "execution_count": 187,
   "metadata": {},
   "outputs": [
    {
     "name": "stdout",
     "output_type": "stream",
     "text": [
      "['the', 'children', 'sat', 'around', 'the', 'fire']\n"
     ]
    }
   ],
   "source": [
    "BOW_B=d_B.split()\n",
    "print(BOW_B)"
   ]
  },
  {
   "cell_type": "code",
   "execution_count": 188,
   "metadata": {},
   "outputs": [
    {
     "name": "stdout",
     "output_type": "stream",
     "text": [
      "{'around', 'sat', 'for', 'out', 'the', 'walk', 'went', 'children', 'fire', 'man', 'a'}\n"
     ]
    }
   ],
   "source": [
    "words = set(BOW_A).union(set(BOW_B))\n",
    "print(words)"
   ]
  },
  {
   "cell_type": "code",
   "execution_count": 189,
   "metadata": {},
   "outputs": [
    {
     "name": "stdout",
     "output_type": "stream",
     "text": [
      "{'around': 0, 'sat': 0, 'for': 1, 'out': 1, 'the': 1, 'walk': 1, 'went': 1, 'children': 0, 'fire': 0, 'man': 1, 'a': 1}\n"
     ]
    }
   ],
   "source": [
    "dictA=dict.fromkeys(words,0)\n",
    "#print(dictA)\n",
    "for w in BOW_A:\n",
    "    dictA[w]+=1\n",
    "print(dictA)    "
   ]
  },
  {
   "cell_type": "code",
   "execution_count": 190,
   "metadata": {},
   "outputs": [
    {
     "name": "stdout",
     "output_type": "stream",
     "text": [
      "{'around': 1, 'sat': 1, 'for': 0, 'out': 0, 'the': 2, 'walk': 0, 'went': 0, 'children': 1, 'fire': 1, 'man': 0, 'a': 0}\n"
     ]
    }
   ],
   "source": [
    "dictB=dict.fromkeys(words,0)\n",
    "#print(dictB)\n",
    "for w in BOW_B:\n",
    "    dictB[w]+=1\n",
    "print(dictB)    "
   ]
  },
  {
   "cell_type": "code",
   "execution_count": 191,
   "metadata": {},
   "outputs": [],
   "source": [
    "def TF (dict_word,BOW):\n",
    "    dict_tf={}\n",
    "    count_BOW=len(BOW)\n",
    "    for w , c in dict_word.items():\n",
    "        dict_tf[w] = c / float(count_BOW)\n",
    "    return dict_tf    "
   ]
  },
  {
   "cell_type": "code",
   "execution_count": 192,
   "metadata": {},
   "outputs": [
    {
     "data": {
      "text/plain": [
       "{'around': 0.0,\n",
       " 'sat': 0.0,\n",
       " 'for': 0.14285714285714285,\n",
       " 'out': 0.14285714285714285,\n",
       " 'the': 0.14285714285714285,\n",
       " 'walk': 0.14285714285714285,\n",
       " 'went': 0.14285714285714285,\n",
       " 'children': 0.0,\n",
       " 'fire': 0.0,\n",
       " 'man': 0.14285714285714285,\n",
       " 'a': 0.14285714285714285}"
      ]
     },
     "execution_count": 192,
     "metadata": {},
     "output_type": "execute_result"
    }
   ],
   "source": [
    "tfA = TF(dictA,BOW_A)\n",
    "tfA"
   ]
  },
  {
   "cell_type": "code",
   "execution_count": 193,
   "metadata": {},
   "outputs": [
    {
     "data": {
      "text/plain": [
       "{'around': 0.16666666666666666,\n",
       " 'sat': 0.16666666666666666,\n",
       " 'for': 0.0,\n",
       " 'out': 0.0,\n",
       " 'the': 0.3333333333333333,\n",
       " 'walk': 0.0,\n",
       " 'went': 0.0,\n",
       " 'children': 0.16666666666666666,\n",
       " 'fire': 0.16666666666666666,\n",
       " 'man': 0.0,\n",
       " 'a': 0.0}"
      ]
     },
     "execution_count": 193,
     "metadata": {},
     "output_type": "execute_result"
    }
   ],
   "source": [
    "tfB = TF(dictB,BOW_B)\n",
    "tfB"
   ]
  },
  {
   "cell_type": "code",
   "execution_count": 194,
   "metadata": {},
   "outputs": [],
   "source": [
    "def IDF(docs):\n",
    "    import math\n",
    "    n=len(docs)\n",
    "    idf_dict= dict.fromkeys(docs[0].keys(),0)\n",
    "    for doc in docs:\n",
    "        for word,val in doc.items():\n",
    "            if val > 0 :\n",
    "                idf_dict[word] += 1\n",
    "    for word , val in idf_dict.items():\n",
    "        idf_dict[word]= math.log(n/float(val))\n",
    "\n",
    "    return idf_dict\n",
    "        "
   ]
  },
  {
   "cell_type": "code",
   "execution_count": 195,
   "metadata": {},
   "outputs": [
    {
     "data": {
      "text/plain": [
       "{'around': 0.6931471805599453,\n",
       " 'sat': 0.6931471805599453,\n",
       " 'for': 0.6931471805599453,\n",
       " 'out': 0.6931471805599453,\n",
       " 'the': 0.0,\n",
       " 'walk': 0.6931471805599453,\n",
       " 'went': 0.6931471805599453,\n",
       " 'children': 0.6931471805599453,\n",
       " 'fire': 0.6931471805599453,\n",
       " 'man': 0.6931471805599453,\n",
       " 'a': 0.6931471805599453}"
      ]
     },
     "execution_count": 195,
     "metadata": {},
     "output_type": "execute_result"
    }
   ],
   "source": [
    "idf = IDF([dictA, dictB])\n",
    "idf"
   ]
  },
  {
   "cell_type": "code",
   "execution_count": 196,
   "metadata": {},
   "outputs": [],
   "source": [
    "def TF_IDF(tf,idf):\n",
    "    tfidf={}\n",
    "    for word , val in tf.items():\n",
    "        tfidf[word]=val * idf[word]\n",
    "    return tfidf    "
   ]
  },
  {
   "cell_type": "code",
   "execution_count": 197,
   "metadata": {},
   "outputs": [
    {
     "data": {
      "text/plain": [
       "{'around': 0.0,\n",
       " 'sat': 0.0,\n",
       " 'for': 0.09902102579427789,\n",
       " 'out': 0.09902102579427789,\n",
       " 'the': 0.0,\n",
       " 'walk': 0.09902102579427789,\n",
       " 'went': 0.09902102579427789,\n",
       " 'children': 0.0,\n",
       " 'fire': 0.0,\n",
       " 'man': 0.09902102579427789,\n",
       " 'a': 0.09902102579427789}"
      ]
     },
     "execution_count": 197,
     "metadata": {},
     "output_type": "execute_result"
    }
   ],
   "source": [
    "tfidfA = TF_IDF(tfA,idf)\n",
    "tfidfA"
   ]
  },
  {
   "cell_type": "code",
   "execution_count": 198,
   "metadata": {},
   "outputs": [
    {
     "data": {
      "text/plain": [
       "{'around': 0.11552453009332421,\n",
       " 'sat': 0.11552453009332421,\n",
       " 'for': 0.0,\n",
       " 'out': 0.0,\n",
       " 'the': 0.0,\n",
       " 'walk': 0.0,\n",
       " 'went': 0.0,\n",
       " 'children': 0.11552453009332421,\n",
       " 'fire': 0.11552453009332421,\n",
       " 'man': 0.0,\n",
       " 'a': 0.0}"
      ]
     },
     "execution_count": 198,
     "metadata": {},
     "output_type": "execute_result"
    }
   ],
   "source": [
    "tfidfB = TF_IDF(tfB,idf)\n",
    "tfidfB"
   ]
  },
  {
   "cell_type": "code",
   "execution_count": 199,
   "metadata": {},
   "outputs": [
    {
     "data": {
      "text/html": [
       "<div>\n",
       "<style scoped>\n",
       "    .dataframe tbody tr th:only-of-type {\n",
       "        vertical-align: middle;\n",
       "    }\n",
       "\n",
       "    .dataframe tbody tr th {\n",
       "        vertical-align: top;\n",
       "    }\n",
       "\n",
       "    .dataframe thead th {\n",
       "        text-align: right;\n",
       "    }\n",
       "</style>\n",
       "<table border=\"1\" class=\"dataframe\">\n",
       "  <thead>\n",
       "    <tr style=\"text-align: right;\">\n",
       "      <th></th>\n",
       "      <th>around</th>\n",
       "      <th>sat</th>\n",
       "      <th>for</th>\n",
       "      <th>out</th>\n",
       "      <th>the</th>\n",
       "      <th>walk</th>\n",
       "      <th>went</th>\n",
       "      <th>children</th>\n",
       "      <th>fire</th>\n",
       "      <th>man</th>\n",
       "      <th>a</th>\n",
       "    </tr>\n",
       "  </thead>\n",
       "  <tbody>\n",
       "    <tr>\n",
       "      <th>0</th>\n",
       "      <td>0.000000</td>\n",
       "      <td>0.000000</td>\n",
       "      <td>0.099021</td>\n",
       "      <td>0.099021</td>\n",
       "      <td>0.0</td>\n",
       "      <td>0.099021</td>\n",
       "      <td>0.099021</td>\n",
       "      <td>0.000000</td>\n",
       "      <td>0.000000</td>\n",
       "      <td>0.099021</td>\n",
       "      <td>0.099021</td>\n",
       "    </tr>\n",
       "    <tr>\n",
       "      <th>1</th>\n",
       "      <td>0.115525</td>\n",
       "      <td>0.115525</td>\n",
       "      <td>0.000000</td>\n",
       "      <td>0.000000</td>\n",
       "      <td>0.0</td>\n",
       "      <td>0.000000</td>\n",
       "      <td>0.000000</td>\n",
       "      <td>0.115525</td>\n",
       "      <td>0.115525</td>\n",
       "      <td>0.000000</td>\n",
       "      <td>0.000000</td>\n",
       "    </tr>\n",
       "  </tbody>\n",
       "</table>\n",
       "</div>"
      ],
      "text/plain": [
       "     around       sat       for       out  the      walk      went  children  \\\n",
       "0  0.000000  0.000000  0.099021  0.099021  0.0  0.099021  0.099021  0.000000   \n",
       "1  0.115525  0.115525  0.000000  0.000000  0.0  0.000000  0.000000  0.115525   \n",
       "\n",
       "       fire       man         a  \n",
       "0  0.000000  0.099021  0.099021  \n",
       "1  0.115525  0.000000  0.000000  "
      ]
     },
     "execution_count": 199,
     "metadata": {},
     "output_type": "execute_result"
    }
   ],
   "source": [
    "df=pd.DataFrame([tfidfA,tfidfB])\n",
    "df"
   ]
  },
  {
   "cell_type": "code",
   "execution_count": 98,
   "metadata": {},
   "outputs": [
    {
     "name": "stdout",
     "output_type": "stream",
     "text": [
      "  (0, 8)\t0.42615959880289433\n",
      "  (0, 3)\t0.42615959880289433\n",
      "  (0, 5)\t0.42615959880289433\n",
      "  (0, 9)\t0.42615959880289433\n",
      "  (0, 4)\t0.42615959880289433\n",
      "  (0, 7)\t0.3032160644503863\n",
      "  (1, 2)\t0.40740123733358447\n",
      "  (1, 0)\t0.40740123733358447\n",
      "  (1, 6)\t0.40740123733358447\n",
      "  (1, 1)\t0.40740123733358447\n",
      "  (1, 7)\t0.5797386715376657\n"
     ]
    }
   ],
   "source": [
    "from sklearn . feature_extraction.text import TfidfVectorizer\n",
    "vectorizer  = TfidfVectorizer()\n",
    "tfidf_sk = vectorizer.fit_transform([d_A, d_B])\n",
    "print(tfidf_sk)"
   ]
  },
  {
   "cell_type": "code",
   "execution_count": 99,
   "metadata": {},
   "outputs": [
    {
     "name": "stdout",
     "output_type": "stream",
     "text": [
      "['around', 'children', 'fire', 'for', 'man', 'out', 'sat', 'the', 'walk', 'went']\n"
     ]
    }
   ],
   "source": [
    "name = vectorizer.get_feature_names()\n",
    "print(name)"
   ]
  },
  {
   "cell_type": "code",
   "execution_count": 100,
   "metadata": {},
   "outputs": [
    {
     "data": {
      "text/plain": [
       "matrix([[0.        , 0.        , 0.        , 0.4261596 , 0.4261596 ,\n",
       "         0.4261596 , 0.        , 0.30321606, 0.4261596 , 0.4261596 ],\n",
       "        [0.40740124, 0.40740124, 0.40740124, 0.        , 0.        ,\n",
       "         0.        , 0.40740124, 0.57973867, 0.        , 0.        ]])"
      ]
     },
     "execution_count": 100,
     "metadata": {},
     "output_type": "execute_result"
    }
   ],
   "source": [
    "#Return a dense matrix representation of this matrix\n",
    "dense = tfidf_sk.todense()\n",
    "dense"
   ]
  },
  {
   "cell_type": "code",
   "execution_count": 101,
   "metadata": {},
   "outputs": [
    {
     "name": "stdout",
     "output_type": "stream",
     "text": [
      "[[0.0, 0.0, 0.0, 0.42615959880289433, 0.42615959880289433, 0.42615959880289433, 0.0, 0.3032160644503863, 0.42615959880289433, 0.42615959880289433], [0.40740123733358447, 0.40740123733358447, 0.40740123733358447, 0.0, 0.0, 0.0, 0.40740123733358447, 0.5797386715376657, 0.0, 0.0]]\n"
     ]
    }
   ],
   "source": [
    "d_list = dense.tolist()\n",
    "print(d_list)"
   ]
  },
  {
   "cell_type": "code",
   "execution_count": 102,
   "metadata": {},
   "outputs": [
    {
     "data": {
      "text/html": [
       "<div>\n",
       "<style scoped>\n",
       "    .dataframe tbody tr th:only-of-type {\n",
       "        vertical-align: middle;\n",
       "    }\n",
       "\n",
       "    .dataframe tbody tr th {\n",
       "        vertical-align: top;\n",
       "    }\n",
       "\n",
       "    .dataframe thead th {\n",
       "        text-align: right;\n",
       "    }\n",
       "</style>\n",
       "<table border=\"1\" class=\"dataframe\">\n",
       "  <thead>\n",
       "    <tr style=\"text-align: right;\">\n",
       "      <th></th>\n",
       "      <th>around</th>\n",
       "      <th>children</th>\n",
       "      <th>fire</th>\n",
       "      <th>for</th>\n",
       "      <th>man</th>\n",
       "      <th>out</th>\n",
       "      <th>sat</th>\n",
       "      <th>the</th>\n",
       "      <th>walk</th>\n",
       "      <th>went</th>\n",
       "    </tr>\n",
       "  </thead>\n",
       "  <tbody>\n",
       "    <tr>\n",
       "      <th>0</th>\n",
       "      <td>0.000000</td>\n",
       "      <td>0.000000</td>\n",
       "      <td>0.000000</td>\n",
       "      <td>0.42616</td>\n",
       "      <td>0.42616</td>\n",
       "      <td>0.42616</td>\n",
       "      <td>0.000000</td>\n",
       "      <td>0.303216</td>\n",
       "      <td>0.42616</td>\n",
       "      <td>0.42616</td>\n",
       "    </tr>\n",
       "    <tr>\n",
       "      <th>1</th>\n",
       "      <td>0.407401</td>\n",
       "      <td>0.407401</td>\n",
       "      <td>0.407401</td>\n",
       "      <td>0.00000</td>\n",
       "      <td>0.00000</td>\n",
       "      <td>0.00000</td>\n",
       "      <td>0.407401</td>\n",
       "      <td>0.579739</td>\n",
       "      <td>0.00000</td>\n",
       "      <td>0.00000</td>\n",
       "    </tr>\n",
       "  </tbody>\n",
       "</table>\n",
       "</div>"
      ],
      "text/plain": [
       "     around  children      fire      for      man      out       sat  \\\n",
       "0  0.000000  0.000000  0.000000  0.42616  0.42616  0.42616  0.000000   \n",
       "1  0.407401  0.407401  0.407401  0.00000  0.00000  0.00000  0.407401   \n",
       "\n",
       "        the     walk     went  \n",
       "0  0.303216  0.42616  0.42616  \n",
       "1  0.579739  0.00000  0.00000  "
      ]
     },
     "execution_count": 102,
     "metadata": {},
     "output_type": "execute_result"
    }
   ],
   "source": [
    "df= pd .DataFrame(d_list,columns=name)\n",
    "df"
   ]
  },
  {
   "cell_type": "code",
   "execution_count": 103,
   "metadata": {},
   "outputs": [],
   "source": [
    "# Example:\n",
    "import pandas as pd \n",
    "from sklearn.feature_extraction.text import TfidfVectorizer\n",
    "from sklearn.model_selection import train_test_split"
   ]
  },
  {
   "cell_type": "code",
   "execution_count": 104,
   "metadata": {},
   "outputs": [
    {
     "data": {
      "text/html": [
       "<div>\n",
       "<style scoped>\n",
       "    .dataframe tbody tr th:only-of-type {\n",
       "        vertical-align: middle;\n",
       "    }\n",
       "\n",
       "    .dataframe tbody tr th {\n",
       "        vertical-align: top;\n",
       "    }\n",
       "\n",
       "    .dataframe thead th {\n",
       "        text-align: right;\n",
       "    }\n",
       "</style>\n",
       "<table border=\"1\" class=\"dataframe\">\n",
       "  <thead>\n",
       "    <tr style=\"text-align: right;\">\n",
       "      <th></th>\n",
       "      <th>Unnamed: 0</th>\n",
       "      <th>Id</th>\n",
       "      <th>OwnerUserId</th>\n",
       "      <th>CreationDate</th>\n",
       "      <th>Score</th>\n",
       "      <th>Title</th>\n",
       "      <th>Body</th>\n",
       "    </tr>\n",
       "  </thead>\n",
       "  <tbody>\n",
       "    <tr>\n",
       "      <th>0</th>\n",
       "      <td>0</td>\n",
       "      <td>469</td>\n",
       "      <td>147.0</td>\n",
       "      <td>2008-08-02T15:11:16Z</td>\n",
       "      <td>21</td>\n",
       "      <td>How can I find the full path to a font from it...</td>\n",
       "      <td>&lt;p&gt;I am using the Photoshop's javascript API t...</td>\n",
       "    </tr>\n",
       "    <tr>\n",
       "      <th>1</th>\n",
       "      <td>1</td>\n",
       "      <td>502</td>\n",
       "      <td>147.0</td>\n",
       "      <td>2008-08-02T17:01:58Z</td>\n",
       "      <td>27</td>\n",
       "      <td>Get a preview JPEG of a PDF on Windows?</td>\n",
       "      <td>&lt;p&gt;I have a cross-platform (Python) applicatio...</td>\n",
       "    </tr>\n",
       "    <tr>\n",
       "      <th>2</th>\n",
       "      <td>2</td>\n",
       "      <td>535</td>\n",
       "      <td>154.0</td>\n",
       "      <td>2008-08-02T18:43:54Z</td>\n",
       "      <td>40</td>\n",
       "      <td>Continuous Integration System for a Python Cod...</td>\n",
       "      <td>&lt;p&gt;I'm starting work on a hobby project with a...</td>\n",
       "    </tr>\n",
       "    <tr>\n",
       "      <th>3</th>\n",
       "      <td>3</td>\n",
       "      <td>594</td>\n",
       "      <td>116.0</td>\n",
       "      <td>2008-08-03T01:15:08Z</td>\n",
       "      <td>25</td>\n",
       "      <td>cx_Oracle: How do I iterate over a result set?</td>\n",
       "      <td>&lt;p&gt;There are several ways to iterate over a re...</td>\n",
       "    </tr>\n",
       "    <tr>\n",
       "      <th>4</th>\n",
       "      <td>4</td>\n",
       "      <td>683</td>\n",
       "      <td>199.0</td>\n",
       "      <td>2008-08-03T13:19:16Z</td>\n",
       "      <td>28</td>\n",
       "      <td>Using 'in' to match an attribute of Python obj...</td>\n",
       "      <td>&lt;p&gt;I don't remember whether I was dreaming or ...</td>\n",
       "    </tr>\n",
       "  </tbody>\n",
       "</table>\n",
       "</div>"
      ],
      "text/plain": [
       "   Unnamed: 0   Id  OwnerUserId          CreationDate  Score  \\\n",
       "0           0  469        147.0  2008-08-02T15:11:16Z     21   \n",
       "1           1  502        147.0  2008-08-02T17:01:58Z     27   \n",
       "2           2  535        154.0  2008-08-02T18:43:54Z     40   \n",
       "3           3  594        116.0  2008-08-03T01:15:08Z     25   \n",
       "4           4  683        199.0  2008-08-03T13:19:16Z     28   \n",
       "\n",
       "                                               Title  \\\n",
       "0  How can I find the full path to a font from it...   \n",
       "1            Get a preview JPEG of a PDF on Windows?   \n",
       "2  Continuous Integration System for a Python Cod...   \n",
       "3     cx_Oracle: How do I iterate over a result set?   \n",
       "4  Using 'in' to match an attribute of Python obj...   \n",
       "\n",
       "                                                Body  \n",
       "0  <p>I am using the Photoshop's javascript API t...  \n",
       "1  <p>I have a cross-platform (Python) applicatio...  \n",
       "2  <p>I'm starting work on a hobby project with a...  \n",
       "3  <p>There are several ways to iterate over a re...  \n",
       "4  <p>I don't remember whether I was dreaming or ...  "
      ]
     },
     "execution_count": 104,
     "metadata": {},
     "output_type": "execute_result"
    }
   ],
   "source": [
    "data = pd.read_csv(\"Questions.csv\")\n",
    "data.head()"
   ]
  },
  {
   "cell_type": "code",
   "execution_count": 105,
   "metadata": {},
   "outputs": [],
   "source": [
    "X=data[\"Title\"]\n",
    "y=data[\"Score\"]"
   ]
  },
  {
   "cell_type": "code",
   "execution_count": 106,
   "metadata": {},
   "outputs": [],
   "source": [
    "model = TfidfVectorizer()\n",
    "X_vec =model.fit_transform(X)\n",
    "X_vec = pd.DataFrame.sparse.from_spmatrix(X_vec)"
   ]
  },
  {
   "cell_type": "code",
   "execution_count": 107,
   "metadata": {},
   "outputs": [
    {
     "data": {
      "text/plain": [
       "(10000, 6870)"
      ]
     },
     "execution_count": 107,
     "metadata": {},
     "output_type": "execute_result"
    }
   ],
   "source": [
    "X_vec.shape"
   ]
  },
  {
   "cell_type": "code",
   "execution_count": 108,
   "metadata": {},
   "outputs": [
    {
     "data": {
      "text/html": [
       "<div>\n",
       "<style scoped>\n",
       "    .dataframe tbody tr th:only-of-type {\n",
       "        vertical-align: middle;\n",
       "    }\n",
       "\n",
       "    .dataframe tbody tr th {\n",
       "        vertical-align: top;\n",
       "    }\n",
       "\n",
       "    .dataframe thead th {\n",
       "        text-align: right;\n",
       "    }\n",
       "</style>\n",
       "<table border=\"1\" class=\"dataframe\">\n",
       "  <thead>\n",
       "    <tr style=\"text-align: right;\">\n",
       "      <th></th>\n",
       "      <th>0</th>\n",
       "      <th>1</th>\n",
       "      <th>2</th>\n",
       "      <th>3</th>\n",
       "      <th>4</th>\n",
       "      <th>5</th>\n",
       "      <th>6</th>\n",
       "      <th>7</th>\n",
       "      <th>8</th>\n",
       "      <th>9</th>\n",
       "      <th>...</th>\n",
       "      <th>6860</th>\n",
       "      <th>6861</th>\n",
       "      <th>6862</th>\n",
       "      <th>6863</th>\n",
       "      <th>6864</th>\n",
       "      <th>6865</th>\n",
       "      <th>6866</th>\n",
       "      <th>6867</th>\n",
       "      <th>6868</th>\n",
       "      <th>6869</th>\n",
       "    </tr>\n",
       "  </thead>\n",
       "  <tbody>\n",
       "    <tr>\n",
       "      <th>0</th>\n",
       "      <td>0.0</td>\n",
       "      <td>0.0</td>\n",
       "      <td>0.0</td>\n",
       "      <td>0.0</td>\n",
       "      <td>0.0</td>\n",
       "      <td>0.0</td>\n",
       "      <td>0.0</td>\n",
       "      <td>0.0</td>\n",
       "      <td>0.0</td>\n",
       "      <td>0.0</td>\n",
       "      <td>...</td>\n",
       "      <td>0.0</td>\n",
       "      <td>0.0</td>\n",
       "      <td>0.0</td>\n",
       "      <td>0.0</td>\n",
       "      <td>0.0</td>\n",
       "      <td>0.0</td>\n",
       "      <td>0.0</td>\n",
       "      <td>0.0</td>\n",
       "      <td>0.0</td>\n",
       "      <td>0.0</td>\n",
       "    </tr>\n",
       "    <tr>\n",
       "      <th>1</th>\n",
       "      <td>0.0</td>\n",
       "      <td>0.0</td>\n",
       "      <td>0.0</td>\n",
       "      <td>0.0</td>\n",
       "      <td>0.0</td>\n",
       "      <td>0.0</td>\n",
       "      <td>0.0</td>\n",
       "      <td>0.0</td>\n",
       "      <td>0.0</td>\n",
       "      <td>0.0</td>\n",
       "      <td>...</td>\n",
       "      <td>0.0</td>\n",
       "      <td>0.0</td>\n",
       "      <td>0.0</td>\n",
       "      <td>0.0</td>\n",
       "      <td>0.0</td>\n",
       "      <td>0.0</td>\n",
       "      <td>0.0</td>\n",
       "      <td>0.0</td>\n",
       "      <td>0.0</td>\n",
       "      <td>0.0</td>\n",
       "    </tr>\n",
       "    <tr>\n",
       "      <th>2</th>\n",
       "      <td>0.0</td>\n",
       "      <td>0.0</td>\n",
       "      <td>0.0</td>\n",
       "      <td>0.0</td>\n",
       "      <td>0.0</td>\n",
       "      <td>0.0</td>\n",
       "      <td>0.0</td>\n",
       "      <td>0.0</td>\n",
       "      <td>0.0</td>\n",
       "      <td>0.0</td>\n",
       "      <td>...</td>\n",
       "      <td>0.0</td>\n",
       "      <td>0.0</td>\n",
       "      <td>0.0</td>\n",
       "      <td>0.0</td>\n",
       "      <td>0.0</td>\n",
       "      <td>0.0</td>\n",
       "      <td>0.0</td>\n",
       "      <td>0.0</td>\n",
       "      <td>0.0</td>\n",
       "      <td>0.0</td>\n",
       "    </tr>\n",
       "    <tr>\n",
       "      <th>3</th>\n",
       "      <td>0.0</td>\n",
       "      <td>0.0</td>\n",
       "      <td>0.0</td>\n",
       "      <td>0.0</td>\n",
       "      <td>0.0</td>\n",
       "      <td>0.0</td>\n",
       "      <td>0.0</td>\n",
       "      <td>0.0</td>\n",
       "      <td>0.0</td>\n",
       "      <td>0.0</td>\n",
       "      <td>...</td>\n",
       "      <td>0.0</td>\n",
       "      <td>0.0</td>\n",
       "      <td>0.0</td>\n",
       "      <td>0.0</td>\n",
       "      <td>0.0</td>\n",
       "      <td>0.0</td>\n",
       "      <td>0.0</td>\n",
       "      <td>0.0</td>\n",
       "      <td>0.0</td>\n",
       "      <td>0.0</td>\n",
       "    </tr>\n",
       "    <tr>\n",
       "      <th>4</th>\n",
       "      <td>0.0</td>\n",
       "      <td>0.0</td>\n",
       "      <td>0.0</td>\n",
       "      <td>0.0</td>\n",
       "      <td>0.0</td>\n",
       "      <td>0.0</td>\n",
       "      <td>0.0</td>\n",
       "      <td>0.0</td>\n",
       "      <td>0.0</td>\n",
       "      <td>0.0</td>\n",
       "      <td>...</td>\n",
       "      <td>0.0</td>\n",
       "      <td>0.0</td>\n",
       "      <td>0.0</td>\n",
       "      <td>0.0</td>\n",
       "      <td>0.0</td>\n",
       "      <td>0.0</td>\n",
       "      <td>0.0</td>\n",
       "      <td>0.0</td>\n",
       "      <td>0.0</td>\n",
       "      <td>0.0</td>\n",
       "    </tr>\n",
       "  </tbody>\n",
       "</table>\n",
       "<p>5 rows × 6870 columns</p>\n",
       "</div>"
      ],
      "text/plain": [
       "   0     1     2     3     4     5     6     7     8     9     ...  6860  \\\n",
       "0   0.0   0.0   0.0   0.0   0.0   0.0   0.0   0.0   0.0   0.0  ...   0.0   \n",
       "1   0.0   0.0   0.0   0.0   0.0   0.0   0.0   0.0   0.0   0.0  ...   0.0   \n",
       "2   0.0   0.0   0.0   0.0   0.0   0.0   0.0   0.0   0.0   0.0  ...   0.0   \n",
       "3   0.0   0.0   0.0   0.0   0.0   0.0   0.0   0.0   0.0   0.0  ...   0.0   \n",
       "4   0.0   0.0   0.0   0.0   0.0   0.0   0.0   0.0   0.0   0.0  ...   0.0   \n",
       "\n",
       "   6861  6862  6863  6864  6865  6866  6867  6868  6869  \n",
       "0   0.0   0.0   0.0   0.0   0.0   0.0   0.0   0.0   0.0  \n",
       "1   0.0   0.0   0.0   0.0   0.0   0.0   0.0   0.0   0.0  \n",
       "2   0.0   0.0   0.0   0.0   0.0   0.0   0.0   0.0   0.0  \n",
       "3   0.0   0.0   0.0   0.0   0.0   0.0   0.0   0.0   0.0  \n",
       "4   0.0   0.0   0.0   0.0   0.0   0.0   0.0   0.0   0.0  \n",
       "\n",
       "[5 rows x 6870 columns]"
      ]
     },
     "execution_count": 108,
     "metadata": {},
     "output_type": "execute_result"
    }
   ],
   "source": [
    "X_vec.head()"
   ]
  },
  {
   "cell_type": "code",
   "execution_count": 109,
   "metadata": {},
   "outputs": [
    {
     "name": "stdout",
     "output_type": "stream",
     "text": [
      "[0.422178222176151, 0.3716395905037442, 0.32955184359276674, 0.32666367121717127, 0.3035936514537762, 0.28427933869442007, 0.27713713250250954, 0.2615059045427987, 0.18645448981827298, 0.18597326273423462, 0.17584122839792515, 0.14999446597627894, 0.12187283198225851, 0.11197776573544506, 0, 0, 0, 0, 0, 0]\n",
      "-------------------------------------------------------------------------\n",
      "[0.5426412233100997, 0.5289190014000659, 0.4187346787909365, 0.2942839268145828, 0.27016796115062247, 0.2329935255908615, 0.19122427073824194, 0, 0, 0, 0, 0, 0, 0, 0, 0, 0, 0, 0, 0]\n",
      "-------------------------------------------------------------------------\n",
      "[0.5645125193070204, 0.5215694064886434, 0.4786262936702665, 0.3573365447207418, 0.20580239279118884, 0.10081572147562867, 0, 0, 0, 0, 0, 0, 0, 0, 0, 0, 0, 0, 0, 0]\n",
      "-------------------------------------------------------------------------\n",
      "[0.5090625627208644, 0.45228021334724877, 0.45228021334724877, 0.3752194639691171, 0.33991401883074684, 0.22478750070301515, 0.15773369219653524, 0, 0, 0, 0, 0, 0, 0, 0, 0, 0, 0, 0, 0]\n",
      "-------------------------------------------------------------------------\n",
      "[0.49545501901989014, 0.4017251355893547, 0.3767557017869033, 0.3688488495096409, 0.35419360075396095, 0.2623900054302421, 0.22779365299689125, 0.19507232588073126, 0.14311257279773454, 0.10208288800026773, 0, 0, 0, 0, 0, 0, 0, 0, 0, 0]\n",
      "-------------------------------------------------------------------------\n"
     ]
    }
   ],
   "source": [
    "for i in range(5):\n",
    "    t =sorted(list(X_vec.iloc[i,:]),reverse= True)[:20]\n",
    "    print(t)\n",
    "    print(\"-------------------------------------------------------------------------\")"
   ]
  },
  {
   "cell_type": "code",
   "execution_count": 110,
   "metadata": {},
   "outputs": [],
   "source": [
    "X_train, X_test, y_train, y_test = train_test_split(X_vec,y ,test_size =0.3 ,random_state =42 )"
   ]
  },
  {
   "cell_type": "code",
   "execution_count": null,
   "metadata": {},
   "outputs": [],
   "source": []
  },
  {
   "cell_type": "code",
   "execution_count": 111,
   "metadata": {},
   "outputs": [],
   "source": [
    "#TF-IDF in Arabic"
   ]
  },
  {
   "cell_type": "code",
   "execution_count": 200,
   "metadata": {},
   "outputs": [],
   "source": [
    "d_A = 'ذهب محمد الي الجامعة ليدرس الفيزياء و الكيمياء'\n",
    "d_B = 'ذاكرت مني الرياضيات و الفيزياء في الجامعة'\n"
   ]
  },
  {
   "cell_type": "code",
   "execution_count": 201,
   "metadata": {},
   "outputs": [
    {
     "name": "stdout",
     "output_type": "stream",
     "text": [
      "['ذهب', 'محمد', 'الي', 'الجامعة', 'ليدرس', 'الفيزياء', 'و', 'الكيمياء']\n"
     ]
    }
   ],
   "source": [
    "BOW_A=d_A.split()\n",
    "print(BOW_A)"
   ]
  },
  {
   "cell_type": "code",
   "execution_count": 202,
   "metadata": {},
   "outputs": [
    {
     "name": "stdout",
     "output_type": "stream",
     "text": [
      "['ذاكرت', 'مني', 'الرياضيات', 'و', 'الفيزياء', 'في', 'الجامعة']\n"
     ]
    }
   ],
   "source": [
    "BOW_B=d_B.split()\n",
    "print(BOW_B)"
   ]
  },
  {
   "cell_type": "code",
   "execution_count": 203,
   "metadata": {},
   "outputs": [
    {
     "name": "stdout",
     "output_type": "stream",
     "text": [
      "{'مني', 'الرياضيات', 'ليدرس', 'الكيمياء', 'الي', 'و', 'ذهب', 'محمد', 'الفيزياء', 'ذاكرت', 'في', 'الجامعة'}\n"
     ]
    }
   ],
   "source": [
    "words = set(BOW_A).union(set(BOW_B))\n",
    "print(words)"
   ]
  },
  {
   "cell_type": "code",
   "execution_count": 204,
   "metadata": {},
   "outputs": [
    {
     "name": "stdout",
     "output_type": "stream",
     "text": [
      "{'مني': 0, 'الرياضيات': 0, 'ليدرس': 1, 'الكيمياء': 1, 'الي': 1, 'و': 1, 'ذهب': 1, 'محمد': 1, 'الفيزياء': 1, 'ذاكرت': 0, 'في': 0, 'الجامعة': 1}\n"
     ]
    }
   ],
   "source": [
    "dictA=dict.fromkeys(words,0)\n",
    "#print(dictA)\n",
    "for w in BOW_A:\n",
    "    dictA[w]=+1\n",
    "print(dictA)    "
   ]
  },
  {
   "cell_type": "code",
   "execution_count": 205,
   "metadata": {},
   "outputs": [
    {
     "name": "stdout",
     "output_type": "stream",
     "text": [
      "{'مني': 1, 'الرياضيات': 1, 'ليدرس': 0, 'الكيمياء': 0, 'الي': 0, 'و': 1, 'ذهب': 0, 'محمد': 0, 'الفيزياء': 1, 'ذاكرت': 1, 'في': 1, 'الجامعة': 1}\n"
     ]
    }
   ],
   "source": [
    "dictB=dict.fromkeys(words,0)\n",
    "#print(dictB)\n",
    "for w in BOW_B:\n",
    "    dictB[w]=+1\n",
    "print(dictB)    "
   ]
  },
  {
   "cell_type": "code",
   "execution_count": 206,
   "metadata": {},
   "outputs": [],
   "source": [
    "def TF (dict_word,BOW):\n",
    "    dict_tf={}\n",
    "    count_BOW=len(BOW)\n",
    "    for w , c in dict_word.items():\n",
    "        dict_tf[w] = c / float(count_BOW)\n",
    "    return dict_tf    "
   ]
  },
  {
   "cell_type": "code",
   "execution_count": 207,
   "metadata": {},
   "outputs": [
    {
     "data": {
      "text/plain": [
       "{'مني': 0.0,\n",
       " 'الرياضيات': 0.0,\n",
       " 'ليدرس': 0.125,\n",
       " 'الكيمياء': 0.125,\n",
       " 'الي': 0.125,\n",
       " 'و': 0.125,\n",
       " 'ذهب': 0.125,\n",
       " 'محمد': 0.125,\n",
       " 'الفيزياء': 0.125,\n",
       " 'ذاكرت': 0.0,\n",
       " 'في': 0.0,\n",
       " 'الجامعة': 0.125}"
      ]
     },
     "execution_count": 207,
     "metadata": {},
     "output_type": "execute_result"
    }
   ],
   "source": [
    "tfA = TF(dictA,BOW_A)\n",
    "tfA"
   ]
  },
  {
   "cell_type": "code",
   "execution_count": 208,
   "metadata": {},
   "outputs": [
    {
     "data": {
      "text/plain": [
       "{'مني': 0.14285714285714285,\n",
       " 'الرياضيات': 0.14285714285714285,\n",
       " 'ليدرس': 0.0,\n",
       " 'الكيمياء': 0.0,\n",
       " 'الي': 0.0,\n",
       " 'و': 0.14285714285714285,\n",
       " 'ذهب': 0.0,\n",
       " 'محمد': 0.0,\n",
       " 'الفيزياء': 0.14285714285714285,\n",
       " 'ذاكرت': 0.14285714285714285,\n",
       " 'في': 0.14285714285714285,\n",
       " 'الجامعة': 0.14285714285714285}"
      ]
     },
     "execution_count": 208,
     "metadata": {},
     "output_type": "execute_result"
    }
   ],
   "source": [
    "tfB = TF(dictB,BOW_B)\n",
    "tfB"
   ]
  },
  {
   "cell_type": "code",
   "execution_count": 209,
   "metadata": {},
   "outputs": [],
   "source": [
    "def IDF(docs):\n",
    "    import math\n",
    "    n=len(docs)\n",
    "    idf_dict= dict.fromkeys(docs[0].keys(),0)\n",
    "    for doc in docs:\n",
    "        for word,val in doc.items():\n",
    "            if val > 0 :\n",
    "                idf_dict[word] += 1\n",
    "    for word , val in idf_dict.items():\n",
    "        idf_dict[word]= math.log(n/float(val))\n",
    "\n",
    "    return idf_dict"
   ]
  },
  {
   "cell_type": "code",
   "execution_count": 210,
   "metadata": {},
   "outputs": [
    {
     "data": {
      "text/plain": [
       "{'مني': 0.6931471805599453,\n",
       " 'الرياضيات': 0.6931471805599453,\n",
       " 'ليدرس': 0.6931471805599453,\n",
       " 'الكيمياء': 0.6931471805599453,\n",
       " 'الي': 0.6931471805599453,\n",
       " 'و': 0.0,\n",
       " 'ذهب': 0.6931471805599453,\n",
       " 'محمد': 0.6931471805599453,\n",
       " 'الفيزياء': 0.0,\n",
       " 'ذاكرت': 0.6931471805599453,\n",
       " 'في': 0.6931471805599453,\n",
       " 'الجامعة': 0.0}"
      ]
     },
     "execution_count": 210,
     "metadata": {},
     "output_type": "execute_result"
    }
   ],
   "source": [
    "idf = IDF([dictA, dictB])\n",
    "idf"
   ]
  },
  {
   "cell_type": "code",
   "execution_count": 211,
   "metadata": {},
   "outputs": [],
   "source": [
    "def TF_IDF(tf,idf):\n",
    "    tfidf={}\n",
    "    for word , val in tf.items():\n",
    "        tfidf[word]=val * idf[word]\n",
    "    return tfidf    "
   ]
  },
  {
   "cell_type": "code",
   "execution_count": 213,
   "metadata": {},
   "outputs": [
    {
     "data": {
      "text/plain": [
       "{'مني': 0.0,\n",
       " 'الرياضيات': 0.0,\n",
       " 'ليدرس': 0.08664339756999316,\n",
       " 'الكيمياء': 0.08664339756999316,\n",
       " 'الي': 0.08664339756999316,\n",
       " 'و': 0.0,\n",
       " 'ذهب': 0.08664339756999316,\n",
       " 'محمد': 0.08664339756999316,\n",
       " 'الفيزياء': 0.0,\n",
       " 'ذاكرت': 0.0,\n",
       " 'في': 0.0,\n",
       " 'الجامعة': 0.0}"
      ]
     },
     "execution_count": 213,
     "metadata": {},
     "output_type": "execute_result"
    }
   ],
   "source": [
    "tfidfA = TF_IDF(tfA,idf)\n",
    "tfidfA"
   ]
  },
  {
   "cell_type": "code",
   "execution_count": 212,
   "metadata": {},
   "outputs": [
    {
     "data": {
      "text/plain": [
       "{'مني': 0.09902102579427789,\n",
       " 'الرياضيات': 0.09902102579427789,\n",
       " 'ليدرس': 0.0,\n",
       " 'الكيمياء': 0.0,\n",
       " 'الي': 0.0,\n",
       " 'و': 0.0,\n",
       " 'ذهب': 0.0,\n",
       " 'محمد': 0.0,\n",
       " 'الفيزياء': 0.0,\n",
       " 'ذاكرت': 0.09902102579427789,\n",
       " 'في': 0.09902102579427789,\n",
       " 'الجامعة': 0.0}"
      ]
     },
     "execution_count": 212,
     "metadata": {},
     "output_type": "execute_result"
    }
   ],
   "source": [
    "tfidfB = TF_IDF(tfB,idf)\n",
    "tfidfB"
   ]
  },
  {
   "cell_type": "code",
   "execution_count": 214,
   "metadata": {},
   "outputs": [
    {
     "data": {
      "text/html": [
       "<div>\n",
       "<style scoped>\n",
       "    .dataframe tbody tr th:only-of-type {\n",
       "        vertical-align: middle;\n",
       "    }\n",
       "\n",
       "    .dataframe tbody tr th {\n",
       "        vertical-align: top;\n",
       "    }\n",
       "\n",
       "    .dataframe thead th {\n",
       "        text-align: right;\n",
       "    }\n",
       "</style>\n",
       "<table border=\"1\" class=\"dataframe\">\n",
       "  <thead>\n",
       "    <tr style=\"text-align: right;\">\n",
       "      <th></th>\n",
       "      <th>مني</th>\n",
       "      <th>الرياضيات</th>\n",
       "      <th>ليدرس</th>\n",
       "      <th>الكيمياء</th>\n",
       "      <th>الي</th>\n",
       "      <th>و</th>\n",
       "      <th>ذهب</th>\n",
       "      <th>محمد</th>\n",
       "      <th>الفيزياء</th>\n",
       "      <th>ذاكرت</th>\n",
       "      <th>في</th>\n",
       "      <th>الجامعة</th>\n",
       "    </tr>\n",
       "  </thead>\n",
       "  <tbody>\n",
       "    <tr>\n",
       "      <th>0</th>\n",
       "      <td>0.000000</td>\n",
       "      <td>0.000000</td>\n",
       "      <td>0.086643</td>\n",
       "      <td>0.086643</td>\n",
       "      <td>0.086643</td>\n",
       "      <td>0.0</td>\n",
       "      <td>0.086643</td>\n",
       "      <td>0.086643</td>\n",
       "      <td>0.0</td>\n",
       "      <td>0.000000</td>\n",
       "      <td>0.000000</td>\n",
       "      <td>0.0</td>\n",
       "    </tr>\n",
       "    <tr>\n",
       "      <th>1</th>\n",
       "      <td>0.099021</td>\n",
       "      <td>0.099021</td>\n",
       "      <td>0.000000</td>\n",
       "      <td>0.000000</td>\n",
       "      <td>0.000000</td>\n",
       "      <td>0.0</td>\n",
       "      <td>0.000000</td>\n",
       "      <td>0.000000</td>\n",
       "      <td>0.0</td>\n",
       "      <td>0.099021</td>\n",
       "      <td>0.099021</td>\n",
       "      <td>0.0</td>\n",
       "    </tr>\n",
       "  </tbody>\n",
       "</table>\n",
       "</div>"
      ],
      "text/plain": [
       "        مني  الرياضيات     ليدرس  الكيمياء       الي    و       ذهب      محمد  \\\n",
       "0  0.000000   0.000000  0.086643  0.086643  0.086643  0.0  0.086643  0.086643   \n",
       "1  0.099021   0.099021  0.000000  0.000000  0.000000  0.0  0.000000  0.000000   \n",
       "\n",
       "   الفيزياء     ذاكرت        في  الجامعة  \n",
       "0       0.0  0.000000  0.000000      0.0  \n",
       "1       0.0  0.099021  0.099021      0.0  "
      ]
     },
     "execution_count": 214,
     "metadata": {},
     "output_type": "execute_result"
    }
   ],
   "source": [
    "df=pd.DataFrame([tfidfA,tfidfB])\n",
    "df"
   ]
  },
  {
   "cell_type": "code",
   "execution_count": 215,
   "metadata": {},
   "outputs": [
    {
     "name": "stdout",
     "output_type": "stream",
     "text": [
      "  (0, 3)\t0.4078241041497786\n",
      "  (0, 2)\t0.29017020899133733\n",
      "  (0, 8)\t0.4078241041497786\n",
      "  (0, 0)\t0.29017020899133733\n",
      "  (0, 4)\t0.4078241041497786\n",
      "  (0, 9)\t0.4078241041497786\n",
      "  (0, 6)\t0.4078241041497786\n",
      "  (1, 7)\t0.4466561618018052\n",
      "  (1, 1)\t0.4466561618018052\n",
      "  (1, 10)\t0.4466561618018052\n",
      "  (1, 5)\t0.4466561618018052\n",
      "  (1, 2)\t0.31779953783628945\n",
      "  (1, 0)\t0.31779953783628945\n"
     ]
    }
   ],
   "source": [
    "from sklearn . feature_extraction.text import TfidfVectorizer\n",
    "vectorizer  = TfidfVectorizer()\n",
    "tfidf_sk = vectorizer.fit_transform([d_A, d_B])\n",
    "print(tfidf_sk)"
   ]
  },
  {
   "cell_type": "code",
   "execution_count": 216,
   "metadata": {},
   "outputs": [
    {
     "name": "stdout",
     "output_type": "stream",
     "text": [
      "['الجامعة', 'الرياضيات', 'الفيزياء', 'الكيمياء', 'الي', 'ذاكرت', 'ذهب', 'في', 'ليدرس', 'محمد', 'مني']\n"
     ]
    }
   ],
   "source": [
    "name = vectorizer.get_feature_names()\n",
    "print(name)\n"
   ]
  },
  {
   "cell_type": "code",
   "execution_count": 217,
   "metadata": {},
   "outputs": [
    {
     "data": {
      "text/plain": [
       "matrix([[0.29017021, 0.        , 0.29017021, 0.4078241 , 0.4078241 ,\n",
       "         0.        , 0.4078241 , 0.        , 0.4078241 , 0.4078241 ,\n",
       "         0.        ],\n",
       "        [0.31779954, 0.44665616, 0.31779954, 0.        , 0.        ,\n",
       "         0.44665616, 0.        , 0.44665616, 0.        , 0.        ,\n",
       "         0.44665616]])"
      ]
     },
     "execution_count": 217,
     "metadata": {},
     "output_type": "execute_result"
    }
   ],
   "source": [
    "#Return a dense matrix representation of this matrix\n",
    "dense = tfidf_sk.todense()\n",
    "dense"
   ]
  },
  {
   "cell_type": "code",
   "execution_count": 218,
   "metadata": {},
   "outputs": [
    {
     "name": "stdout",
     "output_type": "stream",
     "text": [
      "[[0.29017020899133733, 0.0, 0.29017020899133733, 0.4078241041497786, 0.4078241041497786, 0.0, 0.4078241041497786, 0.0, 0.4078241041497786, 0.4078241041497786, 0.0], [0.31779953783628945, 0.4466561618018052, 0.31779953783628945, 0.0, 0.0, 0.4466561618018052, 0.0, 0.4466561618018052, 0.0, 0.0, 0.4466561618018052]]\n"
     ]
    }
   ],
   "source": [
    "d_list = dense.tolist()\n",
    "print(d_list)\n"
   ]
  },
  {
   "cell_type": "code",
   "execution_count": 219,
   "metadata": {},
   "outputs": [
    {
     "data": {
      "text/html": [
       "<div>\n",
       "<style scoped>\n",
       "    .dataframe tbody tr th:only-of-type {\n",
       "        vertical-align: middle;\n",
       "    }\n",
       "\n",
       "    .dataframe tbody tr th {\n",
       "        vertical-align: top;\n",
       "    }\n",
       "\n",
       "    .dataframe thead th {\n",
       "        text-align: right;\n",
       "    }\n",
       "</style>\n",
       "<table border=\"1\" class=\"dataframe\">\n",
       "  <thead>\n",
       "    <tr style=\"text-align: right;\">\n",
       "      <th></th>\n",
       "      <th>الجامعة</th>\n",
       "      <th>الرياضيات</th>\n",
       "      <th>الفيزياء</th>\n",
       "      <th>الكيمياء</th>\n",
       "      <th>الي</th>\n",
       "      <th>ذاكرت</th>\n",
       "      <th>ذهب</th>\n",
       "      <th>في</th>\n",
       "      <th>ليدرس</th>\n",
       "      <th>محمد</th>\n",
       "      <th>مني</th>\n",
       "    </tr>\n",
       "  </thead>\n",
       "  <tbody>\n",
       "    <tr>\n",
       "      <th>0</th>\n",
       "      <td>0.29017</td>\n",
       "      <td>0.000000</td>\n",
       "      <td>0.29017</td>\n",
       "      <td>0.407824</td>\n",
       "      <td>0.407824</td>\n",
       "      <td>0.000000</td>\n",
       "      <td>0.407824</td>\n",
       "      <td>0.000000</td>\n",
       "      <td>0.407824</td>\n",
       "      <td>0.407824</td>\n",
       "      <td>0.000000</td>\n",
       "    </tr>\n",
       "    <tr>\n",
       "      <th>1</th>\n",
       "      <td>0.31780</td>\n",
       "      <td>0.446656</td>\n",
       "      <td>0.31780</td>\n",
       "      <td>0.000000</td>\n",
       "      <td>0.000000</td>\n",
       "      <td>0.446656</td>\n",
       "      <td>0.000000</td>\n",
       "      <td>0.446656</td>\n",
       "      <td>0.000000</td>\n",
       "      <td>0.000000</td>\n",
       "      <td>0.446656</td>\n",
       "    </tr>\n",
       "  </tbody>\n",
       "</table>\n",
       "</div>"
      ],
      "text/plain": [
       "   الجامعة  الرياضيات  الفيزياء  الكيمياء       الي     ذاكرت       ذهب  \\\n",
       "0  0.29017   0.000000   0.29017  0.407824  0.407824  0.000000  0.407824   \n",
       "1  0.31780   0.446656   0.31780  0.000000  0.000000  0.446656  0.000000   \n",
       "\n",
       "         في     ليدرس      محمد       مني  \n",
       "0  0.000000  0.407824  0.407824  0.000000  \n",
       "1  0.446656  0.000000  0.000000  0.446656  "
      ]
     },
     "execution_count": 219,
     "metadata": {},
     "output_type": "execute_result"
    }
   ],
   "source": [
    "df= pd .DataFrame(d_list,columns=name)\n",
    "df"
   ]
  },
  {
   "cell_type": "code",
   "execution_count": null,
   "metadata": {},
   "outputs": [],
   "source": []
  }
 ],
 "metadata": {
  "kernelspec": {
   "display_name": "Python 3",
   "language": "python",
   "name": "python3"
  },
  "language_info": {
   "codemirror_mode": {
    "name": "ipython",
    "version": 3
   },
   "file_extension": ".py",
   "mimetype": "text/x-python",
   "name": "python",
   "nbconvert_exporter": "python",
   "pygments_lexer": "ipython3",
   "version": "3.8.5"
  }
 },
 "nbformat": 4,
 "nbformat_minor": 4
}
