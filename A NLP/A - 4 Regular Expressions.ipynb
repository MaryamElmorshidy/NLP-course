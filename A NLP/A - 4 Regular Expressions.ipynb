{
 "cells": [
  {
   "cell_type": "code",
   "execution_count": 1,
   "metadata": {},
   "outputs": [],
   "source": [
    "import re"
   ]
  },
  {
   "cell_type": "code",
   "execution_count": 2,
   "metadata": {},
   "outputs": [],
   "source": [
    "text =\"\"\"\n",
    "Football is a family of team sports that involve, to varying degrees, kicking a ball to score a goal. Unqualified, \n",
    "the word football normally means the form of football that is the most popular where the word is used. Sports commonly \n",
    "called football include association football (known as soccer in North America and Oceania); gridiron football \n",
    "(specifically American football or Canadian football); Australian rules football; rugby union and rugby league; \n",
    "and Gaelic football.[1] These various forms of football share to varying extent common origins and are known as \n",
    "\"football codes\".\n",
    "There are a number of references to traditional, ancient, or prehistoric ball games played in many different parts of \n",
    "the world.[2][3][4] Contemporary codes of football can be traced back to the codification of these games at English\n",
    "public schools during the 19th century.[5][6] The expansion and cultural influence of the British Empire allowed these\n",
    "rules of football to spread to areas of British influence outside the directly controlled Empire.[7] By the end of the\n",
    "19th century, distinct regional codes were already developing: Gaelic football, for example, deliberately incorporated \n",
    "the rules of local traditional football games in order to maintain their heritage.[8] In 1888, The Football League was\n",
    "founded in England, becoming the first of many professional football associations. During the 20th century, several of \n",
    "the various kinds of football grew to become some of the most popular team sports in the world\n",
    "\"\"\""
   ]
  },
  {
   "cell_type": "code",
   "execution_count": 3,
   "metadata": {},
   "outputs": [],
   "source": [
    "pattern = \"ball\""
   ]
  },
  {
   "cell_type": "code",
   "execution_count": 4,
   "metadata": {},
   "outputs": [],
   "source": [
    "match = re.search(pattern , text)"
   ]
  },
  {
   "cell_type": "code",
   "execution_count": 5,
   "metadata": {},
   "outputs": [
    {
     "data": {
      "text/plain": [
       "<re.Match object; span=(5, 9), match='ball'>"
      ]
     },
     "execution_count": 5,
     "metadata": {},
     "output_type": "execute_result"
    }
   ],
   "source": [
    "match"
   ]
  },
  {
   "cell_type": "code",
   "execution_count": 6,
   "metadata": {},
   "outputs": [
    {
     "data": {
      "text/plain": [
       "(5, 9)"
      ]
     },
     "execution_count": 6,
     "metadata": {},
     "output_type": "execute_result"
    }
   ],
   "source": [
    "match.span()"
   ]
  },
  {
   "cell_type": "code",
   "execution_count": 7,
   "metadata": {},
   "outputs": [
    {
     "data": {
      "text/plain": [
       "5"
      ]
     },
     "execution_count": 7,
     "metadata": {},
     "output_type": "execute_result"
    }
   ],
   "source": [
    "match.start()"
   ]
  },
  {
   "cell_type": "code",
   "execution_count": 8,
   "metadata": {},
   "outputs": [
    {
     "data": {
      "text/plain": [
       "9"
      ]
     },
     "execution_count": 8,
     "metadata": {},
     "output_type": "execute_result"
    }
   ],
   "source": [
    "match.end()\n",
    "\n"
   ]
  },
  {
   "cell_type": "code",
   "execution_count": 9,
   "metadata": {},
   "outputs": [
    {
     "data": {
      "text/plain": [
       "21"
      ]
     },
     "execution_count": 9,
     "metadata": {},
     "output_type": "execute_result"
    }
   ],
   "source": [
    "match = re.findall(pattern , text)\n",
    "len(match)"
   ]
  },
  {
   "cell_type": "code",
   "execution_count": 10,
   "metadata": {},
   "outputs": [
    {
     "name": "stdout",
     "output_type": "stream",
     "text": [
      "(5, 9)\n",
      "(81, 85)\n",
      "(130, 134)\n",
      "(166, 170)\n",
      "(248, 252)\n",
      "(277, 281)\n",
      "(343, 347)\n",
      "(376, 380)\n",
      "(397, 401)\n",
      "(425, 429)\n",
      "(477, 481)\n",
      "(513, 517)\n",
      "(580, 584)\n",
      "(666, 670)\n",
      "(758, 762)\n",
      "(960, 964)\n",
      "(1140, 1144)\n",
      "(1221, 1225)\n",
      "(1289, 1293)\n",
      "(1369, 1373)\n",
      "(1450, 1454)\n"
     ]
    }
   ],
   "source": [
    "for match in re.finditer(pattern , text):\n",
    "    print(match.span())"
   ]
  },
  {
   "cell_type": "code",
   "execution_count": 11,
   "metadata": {},
   "outputs": [],
   "source": [
    "text1=\"\"\"\n",
    "*فوائد:\n",
    " نجد أقوال المتقدمين في كتب السؤاالت التي يكتبيا أصحابيم، كما نجدىا في كتب\n",
    "المتأخرين التي تنقل كالميم مثل كتاب \"تيذيب التيذيب\" لمحافظ ابن حجر )يعد \"تيذيب\n",
    "التيذيب\" أجمع من \"تيذيب الكمال\" في الجرح والتعديل؛ حيث كان الحافظ ابن حجر يزيد\n",
    "فيو عمى ما قالو المزي(.\n",
    " نجد كالم األئمة المتقدمين في عمم الحديث والمصطمح وقواعد الحديث في:\n",
    "O الكتب المتأخرة التي نقمت عنيم.\n",
    "O الكتب المعاصرة االستقرائية التخصصية، مثل: \"الحديث الحسن عند الترمذي\".\n",
    "O الكتب المعاصرة الشمولية التي تنقل عموم الحديث بشكل عام، مثل: كتاب \"تحرير عموم\n",
    "الحديث\" لمجديع.\n",
    "يرى الشارح أن من الكتب المركزية في عمم الحديث ما يمي: \"مقدمة ابن الصالح\"، \"شرح\n",
    "العمل\"، و\"تحرير عموم الحديث\".\n",
    "2.األمام يحيى بن معين: تميز في عمم الجرح والتعديل.\n",
    "3.األمام عمي بن المديني: تميز في عمم العمل، ولو كتاب مطبوع اسمو \"العمل\". )ىو شيخ\n",
    "البخاري(\n",
    "\"\"\""
   ]
  },
  {
   "cell_type": "code",
   "execution_count": 12,
   "metadata": {},
   "outputs": [],
   "source": [
    "pattern=\"الكتب\""
   ]
  },
  {
   "cell_type": "code",
   "execution_count": 15,
   "metadata": {},
   "outputs": [],
   "source": [
    "match = re.search(pattern , text1)"
   ]
  },
  {
   "cell_type": "code",
   "execution_count": 16,
   "metadata": {},
   "outputs": [
    {
     "data": {
      "text/plain": [
       "(338, 343)"
      ]
     },
     "execution_count": 16,
     "metadata": {},
     "output_type": "execute_result"
    }
   ],
   "source": [
    "match.span()"
   ]
  },
  {
   "cell_type": "code",
   "execution_count": 17,
   "metadata": {},
   "outputs": [
    {
     "data": {
      "text/plain": [
       "4"
      ]
     },
     "execution_count": 17,
     "metadata": {},
     "output_type": "execute_result"
    }
   ],
   "source": [
    "match = re.findall(pattern , text1)\n",
    "len(match)"
   ]
  },
  {
   "cell_type": "code",
   "execution_count": 18,
   "metadata": {},
   "outputs": [
    {
     "name": "stdout",
     "output_type": "stream",
     "text": [
      "(338, 343)\n",
      "(371, 376)\n",
      "(443, 448)\n",
      "(555, 560)\n"
     ]
    }
   ],
   "source": [
    "for match in re.finditer(pattern , text1):\n",
    "    print(match.span())"
   ]
  },
  {
   "cell_type": "code",
   "execution_count": null,
   "metadata": {},
   "outputs": [],
   "source": []
  },
  {
   "cell_type": "code",
   "execution_count": 19,
   "metadata": {},
   "outputs": [],
   "source": [
    "text=\"my telephone number is 123-456-7834\""
   ]
  },
  {
   "cell_type": "code",
   "execution_count": 47,
   "metadata": {},
   "outputs": [
    {
     "data": {
      "text/plain": [
       "<re.Match object; span=(23, 35), match='123-456-7834'>"
      ]
     },
     "execution_count": 47,
     "metadata": {},
     "output_type": "execute_result"
    }
   ],
   "source": [
    "word= re.search(r\"\\d\\d\\d-\\d\\d\\d-\\d\\d\\d\\d\",text)\n",
    "word"
   ]
  },
  {
   "cell_type": "code",
   "execution_count": 48,
   "metadata": {},
   "outputs": [
    {
     "data": {
      "text/plain": [
       "'123-456-7834'"
      ]
     },
     "execution_count": 48,
     "metadata": {},
     "output_type": "execute_result"
    }
   ],
   "source": [
    "word.group(0)"
   ]
  },
  {
   "cell_type": "code",
   "execution_count": 25,
   "metadata": {},
   "outputs": [
    {
     "data": {
      "text/plain": [
       "<re.Match object; span=(23, 35), match='123-456-7834'>"
      ]
     },
     "execution_count": 25,
     "metadata": {},
     "output_type": "execute_result"
    }
   ],
   "source": [
    "word= re.search(\"\\d\\d\\d-\\d\\d\\d-\\d\\d\\d\\d\",text)\n",
    "word"
   ]
  },
  {
   "cell_type": "code",
   "execution_count": 26,
   "metadata": {},
   "outputs": [
    {
     "data": {
      "text/plain": [
       "<re.Match object; span=(23, 35), match='123-456-7834'>"
      ]
     },
     "execution_count": 26,
     "metadata": {},
     "output_type": "execute_result"
    }
   ],
   "source": [
    "word= re.search(\"\\d{3}-\\d{3}-\\d{4}\",text)\n",
    "word"
   ]
  },
  {
   "cell_type": "code",
   "execution_count": 39,
   "metadata": {},
   "outputs": [
    {
     "data": {
      "text/plain": [
       "<re.Match object; span=(23, 35), match='123-456-7834'>"
      ]
     },
     "execution_count": 39,
     "metadata": {},
     "output_type": "execute_result"
    }
   ],
   "source": [
    "word= re.search(\"(\\d{3})-(\\d{3})-(\\d{4})\",text)\n",
    "word"
   ]
  },
  {
   "cell_type": "code",
   "execution_count": 41,
   "metadata": {},
   "outputs": [
    {
     "data": {
      "text/plain": [
       "('123-456-7834', '123', '456', '7834')"
      ]
     },
     "execution_count": 41,
     "metadata": {},
     "output_type": "execute_result"
    }
   ],
   "source": [
    "word.group(0)  , word.group(1) , word.group(2) , word.group(3)"
   ]
  },
  {
   "cell_type": "code",
   "execution_count": 42,
   "metadata": {},
   "outputs": [
    {
     "ename": "IndexError",
     "evalue": "no such group",
     "output_type": "error",
     "traceback": [
      "\u001b[1;31m---------------------------------------------------------------------------\u001b[0m",
      "\u001b[1;31mIndexError\u001b[0m                                Traceback (most recent call last)",
      "\u001b[1;32m<ipython-input-42-94aa26774b45>\u001b[0m in \u001b[0;36m<module>\u001b[1;34m\u001b[0m\n\u001b[1;32m----> 1\u001b[1;33m \u001b[0mword\u001b[0m\u001b[1;33m.\u001b[0m\u001b[0mgroup\u001b[0m\u001b[1;33m(\u001b[0m\u001b[1;36m4\u001b[0m\u001b[1;33m)\u001b[0m\u001b[1;33m\u001b[0m\u001b[1;33m\u001b[0m\u001b[0m\n\u001b[0m",
      "\u001b[1;31mIndexError\u001b[0m: no such group"
     ]
    }
   ],
   "source": [
    "word.group(4)"
   ]
  },
  {
   "cell_type": "code",
   "execution_count": 58,
   "metadata": {},
   "outputs": [
    {
     "data": {
      "text/plain": [
       "['bat', 'splat', '*plat']"
      ]
     },
     "execution_count": 58,
     "metadata": {},
     "output_type": "execute_result"
    }
   ],
   "source": [
    "re.findall(r'\\S+at',\"The bat went splat *plat\")"
   ]
  },
  {
   "cell_type": "code",
   "execution_count": 94,
   "metadata": {},
   "outputs": [],
   "source": [
    "text =\"\"\"\n",
    "Football is a family of team sports that involve, to varying degrees, kicking a ball to score a goal. Unqualified, \n",
    "the word football normally means the form of football that is the most popular where the word is used. Sports commonly \n",
    "called football include association football (known as soccer in North America and Oceania); gridiron football \n",
    "(specifically American football or Canadian football); Australian rules football; rugby union and rugby league; \n",
    "and Gaelic football.[1] These various forms of football share to varying extent common origins and are known as \n",
    "\"football codes 9\".\n",
    "There are a number of references to traditional, ancient, or prehistoric ball games played in many different parts of \n",
    "the world.[2][3][4] Contemporary codes of football can be traced back to the codification of these games at English\n",
    "public schools during the 19th century.[5][6] The expansion and cultural influence of the British Empire allowed these\n",
    "rules of football to spread to areas of British influence outside the directly controlled Empire.[7] By the end of the\n",
    "19th century, distinct regional codes were already developing: Gaelic football, for example, deliberately incorporated \n",
    "the rules of local traditional football games in order to maintain their heritage.[8] In 1888, The Football League was\n",
    "founded in England, becoming the first of many professional football associations 9. During the 20th century, several of \n",
    "the various kinds of football grew to become some of the most popular team sports in the world 5\n",
    "\"\"\""
   ]
  },
  {
   "cell_type": "code",
   "execution_count": 95,
   "metadata": {},
   "outputs": [
    {
     "data": {
      "text/plain": [
       "['that',\n",
       " 'that',\n",
       " 'associat',\n",
       " 'codificat',\n",
       " 'deliberat',\n",
       " 'incorporat',\n",
       " 'associat']"
      ]
     },
     "execution_count": 95,
     "metadata": {},
     "output_type": "execute_result"
    }
   ],
   "source": [
    "re.findall(\"\\S+at\",text)"
   ]
  },
  {
   "cell_type": "code",
   "execution_count": 96,
   "metadata": {},
   "outputs": [
    {
     "data": {
      "text/plain": [
       "[' 5']"
      ]
     },
     "execution_count": 96,
     "metadata": {},
     "output_type": "execute_result"
    }
   ],
   "source": [
    "re.findall(\" \\d$\",text)"
   ]
  },
  {
   "cell_type": "code",
   "execution_count": 98,
   "metadata": {},
   "outputs": [
    {
     "data": {
      "text/plain": [
       "['that',\n",
       " 'the',\n",
       " 'the',\n",
       " 'that',\n",
       " 'the',\n",
       " 'where',\n",
       " 'the',\n",
       " 'These',\n",
       " 'share',\n",
       " 'There',\n",
       " 'prehistoric',\n",
       " 'the',\n",
       " 'the',\n",
       " 'these',\n",
       " 'schools',\n",
       " 'the',\n",
       " 'The',\n",
       " 'the',\n",
       " 'these',\n",
       " 'the',\n",
       " 'the',\n",
       " 'the',\n",
       " 'the',\n",
       " 'their',\n",
       " 'The',\n",
       " 'the',\n",
       " 'the',\n",
       " 'the',\n",
       " 'the',\n",
       " 'the']"
      ]
     },
     "execution_count": 98,
     "metadata": {},
     "output_type": "execute_result"
    }
   ],
   "source": [
    "re.findall(\"\\S+h\\S+\",text)"
   ]
  },
  {
   "cell_type": "code",
   "execution_count": null,
   "metadata": {},
   "outputs": [],
   "source": []
  }
 ],
 "metadata": {
  "kernelspec": {
   "display_name": "Python 3",
   "language": "python",
   "name": "python3"
  },
  "language_info": {
   "codemirror_mode": {
    "name": "ipython",
    "version": 3
   },
   "file_extension": ".py",
   "mimetype": "text/x-python",
   "name": "python",
   "nbconvert_exporter": "python",
   "pygments_lexer": "ipython3",
   "version": "3.8.5"
  }
 },
 "nbformat": 4,
 "nbformat_minor": 4
}
