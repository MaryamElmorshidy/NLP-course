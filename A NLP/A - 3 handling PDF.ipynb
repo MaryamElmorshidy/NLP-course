{
 "cells": [
  {
   "cell_type": "code",
   "execution_count": 1,
   "metadata": {},
   "outputs": [],
   "source": [
    "#pip install PyPDF2"
   ]
  },
  {
   "cell_type": "code",
   "execution_count": 37,
   "metadata": {},
   "outputs": [],
   "source": [
    "import PyPDF2"
   ]
  },
  {
   "cell_type": "markdown",
   "metadata": {},
   "source": [
    "###  PdfFileReader"
   ]
  },
  {
   "cell_type": "code",
   "execution_count": 16,
   "metadata": {},
   "outputs": [
    {
     "data": {
      "text/plain": [
       "12"
      ]
     },
     "execution_count": 16,
     "metadata": {},
     "output_type": "execute_result"
    }
   ],
   "source": [
    "file=open(\"Efficient.pdf\",\"rb\")\n",
    "file_reader=PyPDF2.PdfFileReader(file)\n",
    "file_reader.numPages"
   ]
  },
  {
   "cell_type": "code",
   "execution_count": 17,
   "metadata": {},
   "outputs": [],
   "source": [
    "one_page=file_reader.getPage(0)\n",
    "one_page_text=one_page.extractText()\n",
    "#print(one_page_text)"
   ]
  },
  {
   "cell_type": "code",
   "execution_count": 18,
   "metadata": {},
   "outputs": [
    {
     "name": "stdout",
     "output_type": "stream",
     "text": [
      "['Efﬁcient', 'Estimation', 'of', 'Word', 'Representations', 'in', 'Vector', 'Space', 'Tomas', 'Mikolov', 'Google', 'Inc.,', 'Mountain', 'View,', 'CA', 'tmikolov@google.comKai', 'Chen', 'Google', 'Inc.,', 'Mountain', 'View,', 'CA', 'kaichen@google.com', 'Greg', 'Corrado', 'Google', 'Inc.,', 'Mountain', 'View,', 'CA', 'gcorrado@google.comJeffrey', 'Dean', 'Google', 'Inc.,', 'Mountain', 'View,', 'CA', 'jeff@google.com', 'Abstract', 'We', 'propose', 'two', 'novel', 'model', 'architectures', 'for', 'computing', 'continuous', 'vector', 'repre-', 'sentations', 'of', 'words', 'from', 'very', 'large', 'data', 'sets.', 'The', 'quality', 'of', 'these', 'representations', 'is', 'measured', 'in', 'a', 'word', 'similarity', 'task,', 'and', 'the', 'results', 'are', 'compared', 'to', 'the', 'previ-', 'ously', 'best', 'performing', 'techniques', 'based', 'on', 'different', 'types', 'of', 'neural', 'networks.', 'We', 'observe', 'large', 'improvements', 'in', 'accuracy', 'at', 'much', 'lower', 'computational', 'cost,', 'i.e.', 'it', 'takes', 'less', 'than', 'a', 'day', 'to', 'learn', 'high', 'quality', 'word', 'vectors', 'from', 'a', '1.6', 'billion', 'words', 'data', 'set.', 'Furthermore,', 'we', 'show', 'that', 'these', 'vectors', 'provide', 'state-of-the-art', 'perfor-', 'mance', 'on', 'our', 'test', 'set', 'for', 'measuring', 'syntactic', 'and', 'semantic', 'word', 'similarities.', '1', 'Introduction', 'Many', 'current', 'NLP', 'systems', 'and', 'techniques', 'treat', 'words', 'as', 'atomic', 'units', '-', 'there', 'is', 'no', 'notion', 'of', 'similar-', 'ity', 'between', 'words,', 'as', 'these', 'are', 'represented', 'as', 'indices', 'in', 'a', 'vocabulary.', 'This', 'choice', 'has', 'several', 'good', 'reasons', '-', 'simplicity,', 'robustness', 'and', 'the', 'observation', 'that', 'simple', 'models', 'trained', 'on', 'huge', 'amounts', 'of', 'data', 'outperform', 'complex', 'systems', 'trained', 'on', 'less', 'data.', 'An', 'example', 'is', 'the', 'popular', 'N-gram', 'model', 'used', 'for', 'statistical', 'language', 'modeling', '-', 'today,', 'it', 'is', 'possible', 'to', 'train', 'N-grams', 'on', 'virtually', 'all', 'available', 'data', '(trillions', 'of', 'words', '[3]).', 'However,', 'the', 'simple', 'techniques', 'are', 'at', 'their', 'limits', 'in', 'many', 'tasks.', 'For', 'example,', 'the', 'amount', 'of', 'relevant', 'in-domain', 'data', 'for', 'automatic', 'speech', 'recognition', 'is', 'limited', '-', 'the', 'performance', 'is', 'usually', 'dominated', 'by', 'the', 'size', 'of', 'high', 'quality', 'transcribed', 'speech', 'data', '(often', 'just', 'millions', 'of', 'words).', 'In', 'machine', 'translation,', 'the', 'existing', 'corpora', 'for', 'many', 'languages', 'contain', 'only', 'a', 'few', 'billions', 'of', 'words', 'or', 'less.', 'Thus,', 'there', 'are', 'situations', 'where', 'simple', 'scaling', 'up', 'of', 'the', 'basic', 'techniques', 'will', 'not', 'result', 'in', 'any', 'signiﬁcant', 'progress,', 'and', 'we', 'have', 'to', 'focus', 'on', 'more', 'advanced', 'techniques.', 'With', 'progress', 'of', 'machine', 'learning', 'techniques', 'in', 'recent', 'years,', 'it', 'has', 'become', 'possible', 'to', 'train', 'more', 'complex', 'models', 'on', 'much', 'larger', 'data', 'set,', 'and', 'they', 'typically', 'outperform', 'the', 'simple', 'models.', 'Probably', 'the', 'most', 'successful', 'concept', 'is', 'to', 'use', 'distributed', 'representations', 'of', 'words', '[10].', 'For', 'example,', 'neural', 'network', 'based', 'language', 'models', 'signiﬁcantly', 'outperform', 'N-gram', 'models', '[1,', '27,', '17].', '1.1', 'Goals', 'of', 'the', 'Paper', 'The', 'main', 'goal', 'of', 'this', 'paper', 'is', 'to', 'introduce', 'techniques', 'that', 'can', 'be', 'used', 'for', 'learning', 'high-quality', 'word', 'vectors', 'from', 'huge', 'data', 'sets', 'with', 'billions', 'of', 'words,', 'and', 'with', 'millions', 'of', 'words', 'in', 'the', 'vocabulary.', 'As', 'far', 'as', 'we', 'know,', 'none', 'of', 'the', 'previously', 'proposed', 'architectures', 'has', 'been', 'successfully', 'trained', 'on', 'more', '1arXiv:1301.3781v3', '[cs.CL]', '7', 'Sep', '2013']\n"
     ]
    }
   ],
   "source": [
    "print(file_reader.getPage(0).extractText().split())"
   ]
  },
  {
   "cell_type": "code",
   "execution_count": 19,
   "metadata": {},
   "outputs": [],
   "source": [
    "#difference:\n",
    "#file_reader.getPage(0).extractText()\n",
    "#print(file_reader.getPage(0).extractText())"
   ]
  },
  {
   "cell_type": "markdown",
   "metadata": {},
   "source": [
    "### PdfFileWriter"
   ]
  },
  {
   "cell_type": "code",
   "execution_count": 22,
   "metadata": {},
   "outputs": [
    {
     "data": {
      "text/plain": [
       "(False, <_io.BufferedWriter name='new file .pdf'>)"
      ]
     },
     "execution_count": 22,
     "metadata": {},
     "output_type": "execute_result"
    }
   ],
   "source": [
    "file=open(\"Efficient.pdf\",\"rb\")\n",
    "file_reader=PyPDF2.PdfFileReader(file)\n",
    "one_page=file_reader.getPage(0)\n",
    "\n",
    "file_writer=PyPDF2.PdfFileWriter()\n",
    "file_writer.addPage(one_page)\n",
    "writer = open(\"new file .pdf\",\"wb\")\n",
    "file_writer.write(writer)\n",
    "writer.close()"
   ]
  },
  {
   "cell_type": "markdown",
   "metadata": {},
   "source": [
    "### PdfFileMerger"
   ]
  },
  {
   "cell_type": "code",
   "execution_count": 38,
   "metadata": {},
   "outputs": [],
   "source": [
    "f1=\"Efficient.pdf\"\n",
    "f2=\"glove.pdf\"\n",
    "\n",
    "file1=open(f1,\"rb\")\n",
    "file2=open(f2,\"rb\")\n",
    "\n",
    "merger=PyPDF2.PdfFileMerger()\n",
    "\n",
    "merger.append(PyPDF2.PdfFileReader(file1))\n",
    "merger.append(PyPDF2.PdfFileReader(file2))\n",
    "\n",
    "merger.write(\"new merger.pdf\")"
   ]
  },
  {
   "cell_type": "code",
   "execution_count": 41,
   "metadata": {},
   "outputs": [],
   "source": [
    "f1=\"Efficient.pdf\"\n",
    "f2=\"glove.pdf\"\n",
    "\n",
    "file1=PyPDF2.PdfFileReader(open(f1,\"rb\"))\n",
    "file2=PyPDF2.PdfFileReader(open(f2,\"rb\"))\n",
    "\n",
    "out =PyPDF2.PdfFileWriter()\n",
    "\n",
    "out.addPage(file1.getPage(0))\n",
    "out.addPage(file2.getPage(0))\n",
    "\n",
    "\n",
    "output=open(\"new merger 1.pdf\",\"wb\")\n",
    "out.write(output)\n",
    "output.close()"
   ]
  },
  {
   "cell_type": "code",
   "execution_count": null,
   "metadata": {},
   "outputs": [],
   "source": []
  },
  {
   "cell_type": "code",
   "execution_count": null,
   "metadata": {},
   "outputs": [],
   "source": []
  },
  {
   "cell_type": "code",
   "execution_count": null,
   "metadata": {},
   "outputs": [],
   "source": []
  },
  {
   "cell_type": "code",
   "execution_count": null,
   "metadata": {},
   "outputs": [],
   "source": []
  },
  {
   "cell_type": "code",
   "execution_count": null,
   "metadata": {},
   "outputs": [],
   "source": []
  },
  {
   "cell_type": "code",
   "execution_count": null,
   "metadata": {},
   "outputs": [],
   "source": []
  },
  {
   "cell_type": "code",
   "execution_count": null,
   "metadata": {},
   "outputs": [],
   "source": []
  },
  {
   "cell_type": "code",
   "execution_count": null,
   "metadata": {},
   "outputs": [],
   "source": []
  },
  {
   "cell_type": "code",
   "execution_count": null,
   "metadata": {},
   "outputs": [],
   "source": []
  },
  {
   "cell_type": "code",
   "execution_count": null,
   "metadata": {},
   "outputs": [],
   "source": []
  }
 ],
 "metadata": {
  "kernelspec": {
   "display_name": "Python 3",
   "language": "python",
   "name": "python3"
  },
  "language_info": {
   "codemirror_mode": {
    "name": "ipython",
    "version": 3
   },
   "file_extension": ".py",
   "mimetype": "text/x-python",
   "name": "python",
   "nbconvert_exporter": "python",
   "pygments_lexer": "ipython3",
   "version": "3.8.5"
  }
 },
 "nbformat": 4,
 "nbformat_minor": 4
}
