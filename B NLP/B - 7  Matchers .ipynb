{
 "cells": [
  {
   "cell_type": "code",
   "execution_count": 1,
   "metadata": {},
   "outputs": [],
   "source": [
    "import spacy"
   ]
  },
  {
   "cell_type": "code",
   "execution_count": 2,
   "metadata": {},
   "outputs": [],
   "source": [
    "nlp=spacy.load(\"en_core_web_sm\")"
   ]
  },
  {
   "cell_type": "code",
   "execution_count": 3,
   "metadata": {},
   "outputs": [],
   "source": [
    "from spacy.matcher import Matcher\n",
    "matcher= Matcher(nlp.vocab)"
   ]
  },
  {
   "cell_type": "code",
   "execution_count": 6,
   "metadata": {},
   "outputs": [],
   "source": [
    "pattern1=[{\"LOWER\":\"solarpower\"}]\n",
    "pattern2=[{\"LOWER\":\"solar\"},{\"LOWER\":\"power\"}]\n",
    "pattern3=[{\"LOWER\":\"solar\"},{\"IS_PUNCT\":True},{\"LOWER\":\"power\"}]"
   ]
  },
  {
   "cell_type": "code",
   "execution_count": 9,
   "metadata": {},
   "outputs": [],
   "source": [
    "matcher.add(\"SolarPower\",[pattern1,pattern2,pattern3])"
   ]
  },
  {
   "cell_type": "code",
   "execution_count": 13,
   "metadata": {},
   "outputs": [],
   "source": [
    "doc = nlp(u'The Solar Power industry continues to grow as demand for solarpower increases.\\\n",
    "               Solar-power cars are gaining popularity.')"
   ]
  },
  {
   "cell_type": "code",
   "execution_count": 14,
   "metadata": {},
   "outputs": [],
   "source": [
    "find_match=matcher(doc)"
   ]
  },
  {
   "cell_type": "code",
   "execution_count": 15,
   "metadata": {},
   "outputs": [
    {
     "name": "stdout",
     "output_type": "stream",
     "text": [
      "word ID : 8656102463236116519 , start at : 1 , end at : 3 , word : Solar Power\n",
      "word ID : 8656102463236116519 , start at : 10 , end at : 11 , word : solarpower\n",
      "word ID : 8656102463236116519 , start at : 14 , end at : 17 , word : Solar-power\n"
     ]
    }
   ],
   "source": [
    "for a,b,c in find_match:\n",
    "    print(f\"word ID : {a} , start at : {b} , end at : {c} , word : {doc[b:c]}\")"
   ]
  },
  {
   "cell_type": "code",
   "execution_count": 16,
   "metadata": {},
   "outputs": [],
   "source": [
    "matcher.remove(\"SolarPower\")"
   ]
  },
  {
   "cell_type": "code",
   "execution_count": 21,
   "metadata": {},
   "outputs": [],
   "source": [
    "pattern1=[{\"LOWER\":\"solarpower\"}]\n",
    "pattern2=[{\"LOWER\":\"solar\"},{\"LOWER\":\"power\"}]\n",
    "pattern3=[{\"LOWER\":\"solar\"},{\"IS_PUNCT\":True,\"op\":\"*\"}# for if it was many \n",
    "          ,{\"LOWER\":\"power\"}]"
   ]
  },
  {
   "cell_type": "code",
   "execution_count": 22,
   "metadata": {},
   "outputs": [],
   "source": [
    "matcher.add(\"SolarPower\",[pattern1,pattern2,pattern3])"
   ]
  },
  {
   "cell_type": "code",
   "execution_count": 23,
   "metadata": {},
   "outputs": [],
   "source": [
    "doc = nlp(u'The Solar Power industry continues to grow as demand for solarpower increases.\\\n",
    "               Solar--power cars are gaining popularity.')"
   ]
  },
  {
   "cell_type": "code",
   "execution_count": 24,
   "metadata": {},
   "outputs": [],
   "source": [
    "find_match=matcher(doc)"
   ]
  },
  {
   "cell_type": "code",
   "execution_count": 25,
   "metadata": {},
   "outputs": [
    {
     "name": "stdout",
     "output_type": "stream",
     "text": [
      "word ID : 8656102463236116519 , start at : 1 , end at : 3 , word : Solar Power\n",
      "word ID : 8656102463236116519 , start at : 10 , end at : 11 , word : solarpower\n",
      "word ID : 8656102463236116519 , start at : 14 , end at : 17 , word : Solar--power\n"
     ]
    }
   ],
   "source": [
    "for a,b,c in find_match:\n",
    "    print(f\"word ID : {a} , start at : {b} , end at : {c} , word : {doc[b:c]}\")"
   ]
  },
  {
   "cell_type": "code",
   "execution_count": 26,
   "metadata": {},
   "outputs": [],
   "source": [
    "from spacy.matcher import PhraseMatcher"
   ]
  },
  {
   "cell_type": "code",
   "execution_count": 27,
   "metadata": {},
   "outputs": [],
   "source": [
    "matcher =PhraseMatcher(nlp.vocab)"
   ]
  },
  {
   "cell_type": "code",
   "execution_count": 28,
   "metadata": {},
   "outputs": [],
   "source": [
    "with open (\"reaganomics.txt\") as f:\n",
    "    doc3=nlp(f.read())"
   ]
  },
  {
   "cell_type": "code",
   "execution_count": 29,
   "metadata": {},
   "outputs": [],
   "source": [
    "phrase_list = ['voodoo economics', 'supply-side economics', 'trickle-down economics', 'free-market economics']"
   ]
  },
  {
   "cell_type": "code",
   "execution_count": 35,
   "metadata": {},
   "outputs": [
    {
     "data": {
      "text/plain": [
       "str"
      ]
     },
     "execution_count": 35,
     "metadata": {},
     "output_type": "execute_result"
    }
   ],
   "source": [
    "type(phrase_list[0])"
   ]
  },
  {
   "cell_type": "code",
   "execution_count": 32,
   "metadata": {},
   "outputs": [
    {
     "data": {
      "text/plain": [
       "[voodoo economics,\n",
       " supply-side economics,\n",
       " trickle-down economics,\n",
       " free-market economics]"
      ]
     },
     "execution_count": 32,
     "metadata": {},
     "output_type": "execute_result"
    }
   ],
   "source": [
    "pattern = [nlp(text) for text in phrase_list]\n",
    "pattern"
   ]
  },
  {
   "cell_type": "code",
   "execution_count": 34,
   "metadata": {},
   "outputs": [
    {
     "data": {
      "text/plain": [
       "spacy.tokens.doc.Doc"
      ]
     },
     "execution_count": 34,
     "metadata": {},
     "output_type": "execute_result"
    }
   ],
   "source": [
    "type(pattern[1])"
   ]
  },
  {
   "cell_type": "code",
   "execution_count": 38,
   "metadata": {},
   "outputs": [],
   "source": [
    "matcher.add(\"VoodooEconomics\",None,*pattern)"
   ]
  },
  {
   "cell_type": "code",
   "execution_count": 42,
   "metadata": {},
   "outputs": [
    {
     "name": "stdout",
     "output_type": "stream",
     "text": [
      "word ID : 3473369816841043438 , start at : 41 , end at : 45 , word : commonly associated with supply-side economics, referred to\n",
      "-------------------------------------------------------------------------\n",
      "word ID : 3473369816841043438 , start at : 49 , end at : 53 , word : referred to as trickle-down economics or voodoo economics\n",
      "-------------------------------------------------------------------------\n",
      "word ID : 3473369816841043438 , start at : 54 , end at : 56 , word : down economics or voodoo economics by political opponents\n",
      "-------------------------------------------------------------------------\n",
      "word ID : 3473369816841043438 , start at : 61 , end at : 65 , word : opponents, and free-market economics by political advocates\n",
      "-------------------------------------------------------------------------\n",
      "word ID : 3473369816841043438 , start at : 673 , end at : 677 , word : following from the supply-side economics movement, which\n",
      "-------------------------------------------------------------------------\n",
      "word ID : 3473369816841043438 , start at : 2989 , end at : 2993 , word : known as \"trickle-down economics\", due\n",
      "-------------------------------------------------------------------------\n"
     ]
    }
   ],
   "source": [
    "match=matcher(doc3)\n",
    "for a,b,c in match:\n",
    "    print(f\"word ID : {a} , start at : {b} , end at : {c} , word : {doc3[b-3:c+3]}\")\n",
    "    print(\"-------------------------------------------------------------------------\")"
   ]
  },
  {
   "cell_type": "code",
   "execution_count": 43,
   "metadata": {},
   "outputs": [],
   "source": [
    "from spacy.matcher import Matcher\n",
    "matcher= Matcher(nlp.vocab)"
   ]
  },
  {
   "cell_type": "code",
   "execution_count": 49,
   "metadata": {},
   "outputs": [],
   "source": [
    "pattern1=[{\"LOWER\":\"الذكاءالإصطناعي\"}]\n",
    "pattern2=[{\"LOWER\":\"الذكاء\"},{\"LOWER\":\"الإصطناعي\"}]\n",
    "pattern3=[{\"LOWER\":\"الذكاء\"},{\"LOWER\":\"الصناعي\"}]"
   ]
  },
  {
   "cell_type": "code",
   "execution_count": 50,
   "metadata": {},
   "outputs": [],
   "source": [
    "doc = nlp('''\n",
    "يتميز الذكاءالإصطناعي أنه يسير بسرعة كبيرة نحو المستقبل\n",
    "\n",
    "و قد بدأ الكثير من الطلاب في دراسة الذكاء الإصطناعي\n",
    "\n",
    "و تزداد فرص العمل في الذكاء الصناعي في كل مكان\n",
    "\n",
    "\n",
    "''')"
   ]
  },
  {
   "cell_type": "code",
   "execution_count": 51,
   "metadata": {},
   "outputs": [],
   "source": [
    "matcher.add(\"SolarPower\",[pattern1,pattern2,pattern3])"
   ]
  },
  {
   "cell_type": "code",
   "execution_count": 52,
   "metadata": {},
   "outputs": [],
   "source": [
    "match = matcher(doc)"
   ]
  },
  {
   "cell_type": "code",
   "execution_count": 53,
   "metadata": {},
   "outputs": [
    {
     "name": "stdout",
     "output_type": "stream",
     "text": [
      "word ID : 8656102463236116519 , start at : 2 , end at : 3 , word : الذكاءالإصطناعي\n",
      "word ID : 8656102463236116519 , start at : 18 , end at : 20 , word : الذكاء الإصطناعي\n",
      "word ID : 8656102463236116519 , start at : 26 , end at : 28 , word : الذكاء الصناعي\n"
     ]
    }
   ],
   "source": [
    "for a,b,c in match:\n",
    "    print(f\"word ID : {a} , start at : {b} , end at : {c} , word : {doc[b:c]}\")"
   ]
  },
  {
   "cell_type": "code",
   "execution_count": 57,
   "metadata": {},
   "outputs": [],
   "source": [
    "from spacy.matcher import PhraseMatcher\n",
    "matcher =PhraseMatcher(nlp.vocab)"
   ]
  },
  {
   "cell_type": "code",
   "execution_count": 58,
   "metadata": {},
   "outputs": [],
   "source": [
    "with open (\"raheeq.txt\",encoding=\"utf8\") as f:\n",
    "    doc2=nlp(f.read())"
   ]
  },
  {
   "cell_type": "code",
   "execution_count": 59,
   "metadata": {},
   "outputs": [],
   "source": [
    "\n",
    "\n",
    "phrase_list = ['بني هاشم', 'بنو هاشم', 'قريش','بني المطلب','بنو المطلب' , 'عبد مناف']\n",
    "\n"
   ]
  },
  {
   "cell_type": "code",
   "execution_count": 60,
   "metadata": {},
   "outputs": [],
   "source": [
    "patterns=[nlp(text) for text in phrase_list]"
   ]
  },
  {
   "cell_type": "code",
   "execution_count": 62,
   "metadata": {},
   "outputs": [],
   "source": [
    "matcher.add(\"قريش\",None,*patterns)"
   ]
  },
  {
   "cell_type": "code",
   "execution_count": 63,
   "metadata": {},
   "outputs": [],
   "source": [
    "match=matcher(doc2)"
   ]
  },
  {
   "cell_type": "code",
   "execution_count": 64,
   "metadata": {},
   "outputs": [
    {
     "name": "stdout",
     "output_type": "stream",
     "text": [
      "word ID : 7482666889028465404 , start at : 16 , end at : 17 , word : عُكاظ حرب بين قريش ـ ومعهم كنانة\n",
      "-------------------------------------------------------------------------\n",
      "word ID : 7482666889028465404 , start at : 54 , end at : 55 , word : ، وكان قائد قريش وكنانة كلها حرب\n",
      "-------------------------------------------------------------------------\n",
      "word ID : 7482666889028465404 , start at : 90 , end at : 91 , word : ثم تداعى بعض قريش إلى الصلح على\n",
      "-------------------------------------------------------------------------\n",
      "word ID : 7482666889028465404 , start at : 220 , end at : 221 , word : إليه قبائل من قريش : بنو هاشم\n",
      "-------------------------------------------------------------------------\n",
      "word ID : 7482666889028465404 , start at : 222 , end at : 224 , word : من قريش : بنو هاشم، وبنو المطلب،وأسد\n",
      "-------------------------------------------------------------------------\n",
      "word ID : 7482666889028465404 , start at : 584 , end at : 585 , word : لهم، وكانت قريش قومًا تجارًا،\n",
      "-------------------------------------------------------------------------\n",
      "word ID : 7482666889028465404 , start at : 810 , end at : 812 , word : ، وحضر العقد بنو هاشم ورؤساء مضر،\n",
      "-------------------------------------------------------------------------\n",
      "word ID : 7482666889028465404 , start at : 997 , end at : 998 , word : عليه وسلم قامت قريش ببناء الكعبة؛\n",
      "-------------------------------------------------------------------------\n",
      "word ID : 7482666889028465404 , start at : 1075 , end at : 1076 , word : الانهيار، فاضطرت قريش إلى تجديد بنائها\n",
      "-------------------------------------------------------------------------\n",
      "word ID : 7482666889028465404 , start at : 5107 , end at : 5109 , word : ابن المطلب بن عبد مناف، وسعيد بن\n",
      "-------------------------------------------------------------------------\n",
      "word ID : 7482666889028465404 , start at : 5211 , end at : 5212 , word : وأفخاذ شتى من قريش .\n",
      "ومن\n",
      "-------------------------------------------------------------------------\n",
      "word ID : 7482666889028465404 , start at : 5221 , end at : 5222 , word : الإسلام من غير قريش : عبد الله\n",
      "-------------------------------------------------------------------------\n",
      "word ID : 7482666889028465404 , start at : 5666 , end at : 5667 , word : أنها عرفت لدى قريش، وفشا ذكر\n",
      "-------------------------------------------------------------------------\n",
      "word ID : 7482666889028465404 , start at : 6033 , end at : 6035 , word : عليه وسلم عشيرته بني هاشم بعد نزول هذه\n",
      "-------------------------------------------------------------------------\n",
      "word ID : 7482666889028465404 , start at : 6044 , end at : 6046 , word : ومعهم نفر من بني المطلب بن عبد مناف\n",
      "-------------------------------------------------------------------------\n",
      "word ID : 7482666889028465404 , start at : 6047 , end at : 6049 , word : بني المطلب بن عبد مناف، فكانوا نحو\n",
      "-------------------------------------------------------------------------\n",
      "word ID : 7482666889028465404 , start at : 6111 , end at : 6112 , word : يثب بك بطون قريش، وتمدهم العرب\n",
      "-------------------------------------------------------------------------\n",
      "word ID : 7482666889028465404 , start at : 6409 , end at : 6410 , word : جعل ينادى بطون قريش، ويدعوهم قبائل\n",
      "-------------------------------------------------------------------------\n",
      "word ID : 7482666889028465404 , start at : 6434 , end at : 6436 , word : ، يا بني عبد مناف، يا بني\n",
      "-------------------------------------------------------------------------\n",
      "word ID : 7482666889028465404 , start at : 6585 , end at : 6586 , word : ( يا معشر قريش، اشتروا أنفسكم\n",
      "-------------------------------------------------------------------------\n",
      "word ID : 7482666889028465404 , start at : 6669 , end at : 6671 , word : يا معشر بني عبد مناف، أنقذوا أنفسكم\n",
      "-------------------------------------------------------------------------\n",
      "word ID : 7482666889028465404 , start at : 6707 , end at : 6709 , word : .\n",
      "يا بني هاشم، أنقذوا أنفسكم\n",
      "-------------------------------------------------------------------------\n",
      "word ID : 7482666889028465404 , start at : 7053 , end at : 7054 , word : وتباعد وعناد واشمأزت قريش من كل ذلك\n",
      "-------------------------------------------------------------------------\n",
      "word ID : 7482666889028465404 , start at : 7141 , end at : 7142 , word : الحج، وعرفت قريش أن وفود العرب\n",
      "-------------------------------------------------------------------------\n"
     ]
    }
   ],
   "source": [
    "for a,b,c in match:\n",
    "    print(f\"word ID : {a} , start at : {b} , end at : {c} , word : {doc2[b-3:c+3]}\")\n",
    "    print(\"-------------------------------------------------------------------------\")"
   ]
  },
  {
   "cell_type": "code",
   "execution_count": null,
   "metadata": {},
   "outputs": [],
   "source": []
  }
 ],
 "metadata": {
  "kernelspec": {
   "display_name": "Python 3",
   "language": "python",
   "name": "python3"
  },
  "language_info": {
   "codemirror_mode": {
    "name": "ipython",
    "version": 3
   },
   "file_extension": ".py",
   "mimetype": "text/x-python",
   "name": "python",
   "nbconvert_exporter": "python",
   "pygments_lexer": "ipython3",
   "version": "3.8.5"
  }
 },
 "nbformat": 4,
 "nbformat_minor": 4
}
