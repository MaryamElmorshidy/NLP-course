{
 "cells": [
  {
   "cell_type": "code",
   "execution_count": 70,
   "metadata": {},
   "outputs": [],
   "source": [
    "import spacy\n",
    "nlp=spacy.load(\"en_core_web_sm\")"
   ]
  },
  {
   "cell_type": "code",
   "execution_count": 71,
   "metadata": {},
   "outputs": [
    {
     "data": {
      "text/plain": [
       "spacy.tokens.doc.Doc"
      ]
     },
     "execution_count": 71,
     "metadata": {},
     "output_type": "execute_result"
    }
   ],
   "source": [
    "doc = nlp(\"My name is Maryam. I study AI ,i'm beginner\")\n",
    "type(doc)"
   ]
  },
  {
   "cell_type": "code",
   "execution_count": 80,
   "metadata": {},
   "outputs": [
    {
     "name": "stdout",
     "output_type": "stream",
     "text": [
      "My \n",
      " Xx \n",
      " 12204527652707022206 \n",
      " True \n",
      " True\n",
      "-------\n",
      "name \n",
      " xxxx \n",
      " 13110060611322374290 \n",
      " True \n",
      " True\n",
      "-------\n",
      "is \n",
      " xx \n",
      " 4370460163704169311 \n",
      " True \n",
      " True\n",
      "-------\n",
      "Maryam \n",
      " Xxxxx \n",
      " 16072095006890171862 \n",
      " True \n",
      " False\n",
      "-------\n",
      ". \n",
      " . \n",
      " 12646065887601541794 \n",
      " False \n",
      " False\n",
      "-------\n",
      "I \n",
      " X \n",
      " 101 \n",
      " True \n",
      " True\n",
      "-------\n",
      "study \n",
      " xxxx \n",
      " 13110060611322374290 \n",
      " True \n",
      " False\n",
      "-------\n",
      "AI \n",
      " XX \n",
      " 14968597813295776895 \n",
      " True \n",
      " False\n",
      "-------\n",
      ", \n",
      " , \n",
      " 2593208677638477497 \n",
      " False \n",
      " False\n",
      "-------\n",
      "i \n",
      " x \n",
      " 11123243248953317070 \n",
      " True \n",
      " True\n",
      "-------\n",
      "'m \n",
      " 'x \n",
      " 3155823383004454315 \n",
      " False \n",
      " True\n",
      "-------\n",
      "beginner \n",
      " xxxx \n",
      " 13110060611322374290 \n",
      " True \n",
      " False\n",
      "-------\n"
     ]
    }
   ],
   "source": [
    "for token in doc :\n",
    "    print(token.text,\"\\n\",token.shape_,\"\\n\",token.shape,\"\\n\",token.is_alpha, # is it alphabetic ?\n",
    "        \"\\n\",token.is_stop) # is it stopword?\n",
    "    print(\"-------\")\n",
    "  "
   ]
  },
  {
   "cell_type": "code",
   "execution_count": 14,
   "metadata": {},
   "outputs": [],
   "source": [
    "doc1=nlp(\"\"\"Career Karma entered my life when I needed it most and quickly helped me match with a bootcamp. \n",
    "            Two months after graduating, I found my dream job that aligned with my values and goals in life!\"\"\")"
   ]
  },
  {
   "cell_type": "code",
   "execution_count": 22,
   "metadata": {},
   "outputs": [
    {
     "name": "stdout",
     "output_type": "stream",
     "text": [
      "and\n",
      "------\n",
      "job\n",
      "------\n",
      "and\n",
      "------\n"
     ]
    }
   ],
   "source": [
    "for token in doc1 :\n",
    "    if token.shape_ == \"xxx\":\n",
    "        print(token.text)\n",
    "        print(\"------\")"
   ]
  },
  {
   "cell_type": "code",
   "execution_count": 25,
   "metadata": {},
   "outputs": [
    {
     "name": "stdout",
     "output_type": "stream",
     "text": [
      "Career \n",
      " Xxxxx \n",
      " 16072095006890171862 \n",
      " True \n",
      " False\n",
      "-------\n",
      "Karma \n",
      " Xxxxx \n",
      " 16072095006890171862 \n",
      " True \n",
      " False\n",
      "-------\n",
      "entered \n",
      " xxxx \n",
      " 13110060611322374290 \n",
      " True \n",
      " False\n",
      "-------\n",
      "my \n",
      " xx \n",
      " 4370460163704169311 \n",
      " True \n",
      " True\n",
      "-------\n",
      "life \n",
      " xxxx \n",
      " 13110060611322374290 \n",
      " True \n",
      " False\n",
      "-------\n",
      "when \n",
      " xxxx \n",
      " 13110060611322374290 \n",
      " True \n",
      " True\n",
      "-------\n",
      "I \n",
      " X \n",
      " 101 \n",
      " True \n",
      " True\n",
      "-------\n",
      "needed \n",
      " xxxx \n",
      " 13110060611322374290 \n",
      " True \n",
      " False\n",
      "-------\n",
      "it \n",
      " xx \n",
      " 4370460163704169311 \n",
      " True \n",
      " True\n",
      "-------\n",
      "most \n",
      " xxxx \n",
      " 13110060611322374290 \n",
      " True \n",
      " True\n",
      "-------\n",
      "and \n",
      " xxx \n",
      " 4088098365541558500 \n",
      " True \n",
      " True\n",
      "-------\n",
      "quickly \n",
      " xxxx \n",
      " 13110060611322374290 \n",
      " True \n",
      " False\n",
      "-------\n",
      "helped \n",
      " xxxx \n",
      " 13110060611322374290 \n",
      " True \n",
      " False\n",
      "-------\n",
      "me \n",
      " xx \n",
      " 4370460163704169311 \n",
      " True \n",
      " True\n",
      "-------\n",
      "match \n",
      " xxxx \n",
      " 13110060611322374290 \n",
      " True \n",
      " False\n",
      "-------\n",
      "with \n",
      " xxxx \n",
      " 13110060611322374290 \n",
      " True \n",
      " True\n",
      "-------\n",
      "a \n",
      " x \n",
      " 11123243248953317070 \n",
      " True \n",
      " True\n",
      "-------\n",
      "bootcamp \n",
      " xxxx \n",
      " 13110060611322374290 \n",
      " True \n",
      " False\n",
      "-------\n",
      ". \n",
      " . \n",
      " 12646065887601541794 \n",
      " False \n",
      " False\n",
      "-------\n",
      "\n",
      "             \n",
      " \n",
      "     \n",
      " 16653187200892370574 \n",
      " False \n",
      " False\n",
      "-------\n",
      "Two \n",
      " Xxx \n",
      " 18200729499220207786 \n",
      " True \n",
      " True\n",
      "-------\n",
      "months \n",
      " xxxx \n",
      " 13110060611322374290 \n",
      " True \n",
      " False\n",
      "-------\n",
      "after \n",
      " xxxx \n",
      " 13110060611322374290 \n",
      " True \n",
      " True\n",
      "-------\n",
      "graduating \n",
      " xxxx \n",
      " 13110060611322374290 \n",
      " True \n",
      " False\n",
      "-------\n",
      ", \n",
      " , \n",
      " 2593208677638477497 \n",
      " False \n",
      " False\n",
      "-------\n",
      "I \n",
      " X \n",
      " 101 \n",
      " True \n",
      " True\n",
      "-------\n",
      "found \n",
      " xxxx \n",
      " 13110060611322374290 \n",
      " True \n",
      " False\n",
      "-------\n",
      "my \n",
      " xx \n",
      " 4370460163704169311 \n",
      " True \n",
      " True\n",
      "-------\n",
      "dream \n",
      " xxxx \n",
      " 13110060611322374290 \n",
      " True \n",
      " False\n",
      "-------\n",
      "job \n",
      " xxx \n",
      " 4088098365541558500 \n",
      " True \n",
      " False\n",
      "-------\n",
      "that \n",
      " xxxx \n",
      " 13110060611322374290 \n",
      " True \n",
      " True\n",
      "-------\n",
      "aligned \n",
      " xxxx \n",
      " 13110060611322374290 \n",
      " True \n",
      " False\n",
      "-------\n",
      "with \n",
      " xxxx \n",
      " 13110060611322374290 \n",
      " True \n",
      " True\n",
      "-------\n",
      "my \n",
      " xx \n",
      " 4370460163704169311 \n",
      " True \n",
      " True\n",
      "-------\n",
      "values \n",
      " xxxx \n",
      " 13110060611322374290 \n",
      " True \n",
      " False\n",
      "-------\n",
      "and \n",
      " xxx \n",
      " 4088098365541558500 \n",
      " True \n",
      " True\n",
      "-------\n",
      "goals \n",
      " xxxx \n",
      " 13110060611322374290 \n",
      " True \n",
      " False\n",
      "-------\n",
      "in \n",
      " xx \n",
      " 4370460163704169311 \n",
      " True \n",
      " True\n",
      "-------\n",
      "life \n",
      " xxxx \n",
      " 13110060611322374290 \n",
      " True \n",
      " False\n",
      "-------\n",
      "! \n",
      " ! \n",
      " 17494803046312582752 \n",
      " False \n",
      " False\n",
      "-------\n"
     ]
    }
   ],
   "source": [
    "#But Why??\n",
    "for token in doc1 :\n",
    "    print(token.text,\"\\n\",token.shape_,\"\\n\",token.shape,\"\\n\",token.is_alpha,\"\\n\",token.is_stop) \n",
    "    print(\"-------\")\n",
    "    "
   ]
  },
  {
   "cell_type": "code",
   "execution_count": 32,
   "metadata": {},
   "outputs": [
    {
     "name": "stdout",
     "output_type": "stream",
     "text": [
      "My | name | is | Maryam | . | I | study | AI | , | i | 'm | beginner | "
     ]
    }
   ],
   "source": [
    "for i in range(len(doc)):\n",
    "    print(doc[i],end=\" | \")\n"
   ]
  },
  {
   "cell_type": "code",
   "execution_count": 35,
   "metadata": {},
   "outputs": [
    {
     "data": {
      "text/plain": [
       "study"
      ]
     },
     "execution_count": 35,
     "metadata": {},
     "output_type": "execute_result"
    }
   ],
   "source": [
    "doc[6]"
   ]
  },
  {
   "cell_type": "code",
   "execution_count": 36,
   "metadata": {},
   "outputs": [
    {
     "data": {
      "text/plain": [
       "needed it most and quickly helped"
      ]
     },
     "execution_count": 36,
     "metadata": {},
     "output_type": "execute_result"
    }
   ],
   "source": [
    "doc1[7:13]"
   ]
  },
  {
   "cell_type": "code",
   "execution_count": 37,
   "metadata": {},
   "outputs": [
    {
     "name": "stdout",
     "output_type": "stream",
     "text": [
      "My\n",
      "name\n",
      "is\n",
      "Maryam\n",
      ".\n",
      "I\n",
      "study\n",
      "AI\n",
      ",\n",
      "i\n",
      "'m\n",
      "beginner\n"
     ]
    }
   ],
   "source": [
    "for token in doc:\n",
    "    print(token)"
   ]
  },
  {
   "cell_type": "code",
   "execution_count": 39,
   "metadata": {},
   "outputs": [
    {
     "ename": "TypeError",
     "evalue": "'spacy.tokens.doc.Doc' object does not support item assignment",
     "output_type": "error",
     "traceback": [
      "\u001b[1;31m---------------------------------------------------------------------------\u001b[0m",
      "\u001b[1;31mTypeError\u001b[0m                                 Traceback (most recent call last)",
      "\u001b[1;32m<ipython-input-39-6df17f1d749a>\u001b[0m in \u001b[0;36m<module>\u001b[1;34m\u001b[0m\n\u001b[0;32m      2\u001b[0m \u001b[0mdoc2\u001b[0m\u001b[1;33m=\u001b[0m\u001b[0mnlp\u001b[0m\u001b[1;33m(\u001b[0m\u001b[1;34m\"hi ,my name is mona\"\u001b[0m\u001b[1;33m)\u001b[0m\u001b[1;33m\u001b[0m\u001b[1;33m\u001b[0m\u001b[0m\n\u001b[0;32m      3\u001b[0m \u001b[0mdoc3\u001b[0m\u001b[1;33m=\u001b[0m\u001b[0mnlp\u001b[0m\u001b[1;33m(\u001b[0m\u001b[1;34m\"hi ,my name is ali\"\u001b[0m\u001b[1;33m)\u001b[0m\u001b[1;33m\u001b[0m\u001b[1;33m\u001b[0m\u001b[0m\n\u001b[1;32m----> 4\u001b[1;33m \u001b[0mdoc2\u001b[0m\u001b[1;33m[\u001b[0m\u001b[1;36m5\u001b[0m\u001b[1;33m]\u001b[0m\u001b[1;33m=\u001b[0m\u001b[0mdoc3\u001b[0m\u001b[1;33m[\u001b[0m\u001b[1;36m5\u001b[0m\u001b[1;33m]\u001b[0m\u001b[1;33m\u001b[0m\u001b[1;33m\u001b[0m\u001b[0m\n\u001b[0m",
      "\u001b[1;31mTypeError\u001b[0m: 'spacy.tokens.doc.Doc' object does not support item assignment"
     ]
    }
   ],
   "source": [
    "#important : token read only!\n",
    "doc2=nlp(\"hi ,my name is mona\")\n",
    "doc3=nlp(\"hi ,my name is ali\")\n",
    "doc2[5]=doc3[5]"
   ]
  },
  {
   "cell_type": "code",
   "execution_count": 42,
   "metadata": {},
   "outputs": [],
   "source": [
    "from nltk.tokenize import word_tokenize"
   ]
  },
  {
   "cell_type": "code",
   "execution_count": 43,
   "metadata": {},
   "outputs": [],
   "source": [
    "doc4=\"\"\"Career Karma entered my life when I needed it most and quickly helped me match with a bootcamp. \n",
    "            Two months after graduating, I found my dream job that aligned with my values and goals in life!\"\"\""
   ]
  },
  {
   "cell_type": "code",
   "execution_count": 45,
   "metadata": {},
   "outputs": [
    {
     "name": "stdout",
     "output_type": "stream",
     "text": [
      "['Career', 'Karma', 'entered', 'my', 'life', 'when', 'I', 'needed', 'it', 'most', 'and', 'quickly', 'helped', 'me', 'match', 'with', 'a', 'bootcamp', '.', 'Two', 'months', 'after', 'graduating', ',', 'I', 'found', 'my', 'dream', 'job', 'that', 'aligned', 'with', 'my', 'values', 'and', 'goals', 'in', 'life', '!']\n"
     ]
    }
   ],
   "source": [
    "print(word_tokenize(doc4))"
   ]
  },
  {
   "cell_type": "code",
   "execution_count": 50,
   "metadata": {},
   "outputs": [],
   "source": [
    "doc5=\"\"\"In Python, “unpacking” refers to retrieving items from a value. \n",
    "For instance, retrieving items from a list is referred to as “unpacking” that list. \n",
    "You view its contents and access each item individually.\"\"\""
   ]
  },
  {
   "cell_type": "code",
   "execution_count": 51,
   "metadata": {},
   "outputs": [
    {
     "name": "stdout",
     "output_type": "stream",
     "text": [
      "['In', 'Python', ',', '“', 'unpacking', '”', 'refers', 'to', 'retrieving', 'items', 'from', 'a', 'value', '.', 'For', 'instance', ',', 'retrieving', 'items', 'from', 'a', 'list', 'is', 'referred', 'to', 'as', '“', 'unpacking', '”', 'that', 'list', '.', 'You', 'view', 'its', 'contents', 'and', 'access', 'each', 'item', 'individually', '.']\n"
     ]
    }
   ],
   "source": [
    "print(word_tokenize(doc5))"
   ]
  },
  {
   "cell_type": "code",
   "execution_count": 57,
   "metadata": {},
   "outputs": [
    {
     "name": "stdout",
     "output_type": "stream",
     "text": [
      "split :          ['In', 'Python,', '“unpacking”', 'refers', 'to', 'retrieving', 'items', 'from', 'a', 'value.']\n",
      "-----------\n",
      "word_tokenize :  ['In', 'Python', ',', '“', 'unpacking', '”', 'refers', 'to', 'retrieving', 'items']\n",
      "-----------\n",
      "split :          ['For', 'instance,', 'retrieving', 'items', 'from', 'a', 'list', 'is', 'referred', 'to']\n",
      "-----------\n",
      "word_tokenize :  ['For', 'instance', ',', 'retrieving', 'items', 'from', 'a', 'list', 'is', 'referred']\n",
      "-----------\n",
      "split :          ['You', 'view', 'its', 'contents', 'and', 'access', 'each', 'item', 'individually.']\n",
      "-----------\n",
      "word_tokenize :  ['You', 'view', 'its', 'contents', 'and', 'access', 'each', 'item', 'individually', '.']\n",
      "-----------\n"
     ]
    }
   ],
   "source": [
    "for line in doc5.split(\"\\n\")[:20]:\n",
    "    print(\"split :         \",line.split()[:10])\n",
    "    print(\"-----------\")\n",
    "    print(\"word_tokenize : \",word_tokenize(line)[:10])\n",
    "    print(\"-----------\")\n",
    "    "
   ]
  },
  {
   "cell_type": "code",
   "execution_count": 58,
   "metadata": {},
   "outputs": [],
   "source": [
    "# arabic"
   ]
  },
  {
   "cell_type": "code",
   "execution_count": 66,
   "metadata": {},
   "outputs": [],
   "source": [
    "doc6=nlp(\"\"\" السلام عليكم ورحمة الله وبركاته \n",
    "انا سعيده بمقابلتكم ,ونحن اليوم في الثالث من الشهر لعام 2022م\"\"\")"
   ]
  },
  {
   "cell_type": "code",
   "execution_count": 67,
   "metadata": {},
   "outputs": [
    {
     "name": "stdout",
     "output_type": "stream",
     "text": [
      "  \n",
      "   \n",
      " 8532415787641010193 \n",
      " False \n",
      " False\n",
      "-------\n",
      "السلام \n",
      " xxxx \n",
      " 13110060611322374290 \n",
      " True \n",
      " False\n",
      "-------\n",
      "عليكم \n",
      " xxxx \n",
      " 13110060611322374290 \n",
      " True \n",
      " False\n",
      "-------\n",
      "ورحمة \n",
      " xxxx \n",
      " 13110060611322374290 \n",
      " True \n",
      " False\n",
      "-------\n",
      "الله \n",
      " xxxx \n",
      " 13110060611322374290 \n",
      " True \n",
      " False\n",
      "-------\n",
      "وبركاته \n",
      " xxxx \n",
      " 13110060611322374290 \n",
      " True \n",
      " False\n",
      "-------\n",
      "\n",
      " \n",
      " \n",
      " \n",
      " 962983613142996970 \n",
      " False \n",
      " False\n",
      "-------\n",
      "انا \n",
      " xxx \n",
      " 4088098365541558500 \n",
      " True \n",
      " False\n",
      "-------\n",
      "سعيده \n",
      " xxxx \n",
      " 13110060611322374290 \n",
      " True \n",
      " False\n",
      "-------\n",
      "بمقابلتكم \n",
      " xxxx \n",
      " 13110060611322374290 \n",
      " True \n",
      " False\n",
      "-------\n",
      ", \n",
      " , \n",
      " 2593208677638477497 \n",
      " False \n",
      " False\n",
      "-------\n",
      "ونحن \n",
      " xxxx \n",
      " 13110060611322374290 \n",
      " True \n",
      " False\n",
      "-------\n",
      "اليوم \n",
      " xxxx \n",
      " 13110060611322374290 \n",
      " True \n",
      " False\n",
      "-------\n",
      "في \n",
      " xx \n",
      " 4370460163704169311 \n",
      " True \n",
      " False\n",
      "-------\n",
      "الثالث \n",
      " xxxx \n",
      " 13110060611322374290 \n",
      " True \n",
      " False\n",
      "-------\n",
      "من \n",
      " xx \n",
      " 4370460163704169311 \n",
      " True \n",
      " False\n",
      "-------\n",
      "الشهر \n",
      " xxxx \n",
      " 13110060611322374290 \n",
      " True \n",
      " False\n",
      "-------\n",
      "لعام \n",
      " xxxx \n",
      " 13110060611322374290 \n",
      " True \n",
      " False\n",
      "-------\n",
      "2022 \n",
      " dddd \n",
      " 16540303583526207617 \n",
      " False \n",
      " False\n",
      "-------\n",
      "م \n",
      " x \n",
      " 11123243248953317070 \n",
      " True \n",
      " False\n",
      "-------\n"
     ]
    }
   ],
   "source": [
    "for token in doc6 :\n",
    "    print(token.text,\"\\n\",token.shape_,\"\\n\",token.shape,\"\\n\",token.is_alpha, \"\\n\",token.is_stop) \n",
    "    print(\"-------\")\n",
    "    "
   ]
  },
  {
   "cell_type": "code",
   "execution_count": 68,
   "metadata": {},
   "outputs": [
    {
     "name": "stdout",
     "output_type": "stream",
     "text": [
      "انا\n",
      "------\n"
     ]
    }
   ],
   "source": [
    "for token in doc6 :\n",
    "    if token.shape_ == \"xxx\":\n",
    "        print(token.text)\n",
    "        print(\"------\")"
   ]
  },
  {
   "cell_type": "code",
   "execution_count": 69,
   "metadata": {},
   "outputs": [
    {
     "name": "stdout",
     "output_type": "stream",
     "text": [
      "  | السلام | عليكم | ورحمة | الله | وبركاته | \n",
      " | انا | سعيده | بمقابلتكم | , | ونحن | اليوم | في | الثالث | من | الشهر | لعام | 2022 | م | "
     ]
    }
   ],
   "source": [
    "for i in range(len(doc6)):\n",
    "    print(doc6[i],end=\" | \")\n"
   ]
  },
  {
   "cell_type": "code",
   "execution_count": 74,
   "metadata": {},
   "outputs": [
    {
     "data": {
      "text/plain": [
       "ورحمة"
      ]
     },
     "execution_count": 74,
     "metadata": {},
     "output_type": "execute_result"
    }
   ],
   "source": [
    "doc6[3]"
   ]
  },
  {
   "cell_type": "code",
   "execution_count": 75,
   "metadata": {},
   "outputs": [
    {
     "data": {
      "text/plain": [
       "انا سعيده بمقابلتكم ,ونحن اليوم"
      ]
     },
     "execution_count": 75,
     "metadata": {},
     "output_type": "execute_result"
    }
   ],
   "source": [
    "doc6[7:13]"
   ]
  },
  {
   "cell_type": "code",
   "execution_count": 77,
   "metadata": {},
   "outputs": [],
   "source": [
    "doc7=\"\"\" السلام عليكم ورحمة الله وبركاته \n",
    "انا سعيده بمقابلتكم ,ونحن اليوم في الثالث من الشهر لعام 2022م\"\"\""
   ]
  },
  {
   "cell_type": "code",
   "execution_count": 78,
   "metadata": {},
   "outputs": [
    {
     "name": "stdout",
     "output_type": "stream",
     "text": [
      "['السلام', 'عليكم', 'ورحمة', 'الله', 'وبركاته', 'انا', 'سعيده', 'بمقابلتكم', ',', 'ونحن', 'اليوم', 'في', 'الثالث', 'من', 'الشهر', 'لعام', '2022م']\n"
     ]
    }
   ],
   "source": [
    "print(word_tokenize(doc7))"
   ]
  },
  {
   "cell_type": "code",
   "execution_count": null,
   "metadata": {},
   "outputs": [],
   "source": []
  },
  {
   "cell_type": "code",
   "execution_count": 79,
   "metadata": {},
   "outputs": [
    {
     "name": "stdout",
     "output_type": "stream",
     "text": [
      "split :          ['السلام', 'عليكم', 'ورحمة', 'الله', 'وبركاته']\n",
      "-----------\n",
      "word_tokenize :  ['السلام', 'عليكم', 'ورحمة', 'الله', 'وبركاته']\n",
      "-----------\n",
      "split :          ['انا', 'سعيده', 'بمقابلتكم', ',ونحن', 'اليوم', 'في', 'الثالث', 'من', 'الشهر', 'لعام']\n",
      "-----------\n",
      "word_tokenize :  ['انا', 'سعيده', 'بمقابلتكم', ',', 'ونحن', 'اليوم', 'في', 'الثالث', 'من', 'الشهر']\n",
      "-----------\n"
     ]
    }
   ],
   "source": [
    "for line in doc7.split(\"\\n\")[:20]:\n",
    "    print(\"split :         \",line.split()[:10])\n",
    "    print(\"-----------\")\n",
    "    print(\"word_tokenize : \",word_tokenize(line)[:10])\n",
    "    print(\"-----------\")\n",
    "    "
   ]
  },
  {
   "cell_type": "code",
   "execution_count": null,
   "metadata": {},
   "outputs": [],
   "source": []
  },
  {
   "cell_type": "code",
   "execution_count": null,
   "metadata": {},
   "outputs": [],
   "source": []
  }
 ],
 "metadata": {
  "kernelspec": {
   "display_name": "Python 3",
   "language": "python",
   "name": "python3"
  },
  "language_info": {
   "codemirror_mode": {
    "name": "ipython",
    "version": 3
   },
   "file_extension": ".py",
   "mimetype": "text/x-python",
   "name": "python",
   "nbconvert_exporter": "python",
   "pygments_lexer": "ipython3",
   "version": "3.8.5"
  }
 },
 "nbformat": 4,
 "nbformat_minor": 4
}
