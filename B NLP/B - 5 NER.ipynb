{
 "cells": [
  {
   "cell_type": "code",
   "execution_count": 2,
   "metadata": {},
   "outputs": [],
   "source": [
    "import spacy\n",
    "nlp=spacy.load(\"en_core_web_sm\")"
   ]
  },
  {
   "cell_type": "code",
   "execution_count": 10,
   "metadata": {},
   "outputs": [
    {
     "name": "stdout",
     "output_type": "stream",
     "text": [
      "Apple\n",
      "w.label_ :  ORG ------ w.label : 383 ----w.start:  0 ----w.end:  1 ----w.start_char:  0 ----w.end_char:  5\n",
      "Companies, agencies, institutions, etc.\n",
      "--------------------------------------------------\n",
      "Hong Kong\n",
      "w.label_ :  GPE ------ w.label : 384 ----w.start:  4 ----w.end:  6 ----w.start_char:  17 ----w.end_char:  26\n",
      "Countries, cities, states\n",
      "--------------------------------------------------\n",
      "$6 million\n",
      "w.label_ :  MONEY ------ w.label : 394 ----w.start:  8 ----w.end:  11 ----w.start_char:  39 ----w.end_char:  49\n",
      "Monetary values, including unit\n",
      "--------------------------------------------------\n"
     ]
    }
   ],
   "source": [
    "doc1 = nlp(u'Apple to build a Hong Kong factory for $6 million')\n",
    "for w in doc1.ents:\n",
    "    print(w.text)\n",
    "    print(\"w.label_ : \",w.label_,\"------ w.label :\",w.label ,\"----w.start: \",w.start,\"----w.end: \",w.end,\"----w.start_char: \",w.start_char,\"----w.end_char: \",w.end_char)\n",
    "    print(spacy.explain(w.label_))\n",
    "    print(\"--------------------------------------------------\")"
   ]
  },
  {
   "cell_type": "code",
   "execution_count": 19,
   "metadata": {},
   "outputs": [],
   "source": [
    "def show_ent(doc):\n",
    "    if doc.ents:\n",
    "        for w in doc.ents:\n",
    "            print(\"word: \",w.text , \"| label_ :\",w.label_,\"| explain :\",spacy.explain(w.label_))\n",
    "            print(\"-----------------------------------------------------------------------\")\n",
    "    else:\n",
    "        print(\"no REN\")"
   ]
  },
  {
   "cell_type": "code",
   "execution_count": 20,
   "metadata": {},
   "outputs": [
    {
     "name": "stdout",
     "output_type": "stream",
     "text": [
      "no REN\n"
     ]
    }
   ],
   "source": [
    "show_ent(nlp(\"hi, my name is maryam\"))"
   ]
  },
  {
   "cell_type": "code",
   "execution_count": 39,
   "metadata": {},
   "outputs": [
    {
     "name": "stdout",
     "output_type": "stream",
     "text": [
      "word:  Apple | label_ : ORG | explain : Companies, agencies, institutions, etc.\n",
      "-----------------------------------------------------------------------\n",
      "word:  Hong Kong | label_ : GPE | explain : Countries, cities, states\n",
      "-----------------------------------------------------------------------\n",
      "word:  $6 million | label_ : MONEY | explain : Monetary values, including unit\n",
      "-----------------------------------------------------------------------\n"
     ]
    }
   ],
   "source": [
    "show_ent(nlp(u'Apple to build a Hong Kong factory for $6 million'))"
   ]
  },
  {
   "cell_type": "code",
   "execution_count": 40,
   "metadata": {},
   "outputs": [
    {
     "name": "stdout",
     "output_type": "stream",
     "text": [
      "word:  Washington, DC | label_ : GPE | explain : Countries, cities, states\n",
      "-----------------------------------------------------------------------\n",
      "word:  next May | label_ : DATE | explain : Absolute or relative dates or periods\n",
      "-----------------------------------------------------------------------\n",
      "word:  the Washington Monument | label_ : ORG | explain : Companies, agencies, institutions, etc.\n",
      "-----------------------------------------------------------------------\n"
     ]
    }
   ],
   "source": [
    "show_ent(nlp('May I go to Washington, DC next May to see the Washington Monument?'))"
   ]
  },
  {
   "cell_type": "code",
   "execution_count": 41,
   "metadata": {},
   "outputs": [
    {
     "name": "stdout",
     "output_type": "stream",
     "text": [
      "word:  U.K. | label_ : GPE | explain : Countries, cities, states\n",
      "-----------------------------------------------------------------------\n",
      "word:  $6 million | label_ : MONEY | explain : Monetary values, including unit\n",
      "-----------------------------------------------------------------------\n"
     ]
    }
   ],
   "source": [
    "show_ent(nlp('CPRO to build a U.K. factory for $6 million'))"
   ]
  },
  {
   "cell_type": "code",
   "execution_count": 56,
   "metadata": {},
   "outputs": [
    {
     "name": "stdout",
     "output_type": "stream",
     "text": [
      "word:  U.K. | label_ : GPE | explain : Countries, cities, states\n",
      "-----------------------------------------------------------------------\n",
      "word:  $6 million | label_ : MONEY | explain : Monetary values, including unit\n",
      "-----------------------------------------------------------------------\n",
      "_____________________________________________________\n",
      "word:  CPRO | label_ : ORG | explain : Companies, agencies, institutions, etc.\n",
      "-----------------------------------------------------------------------\n",
      "word:  U.K. | label_ : GPE | explain : Countries, cities, states\n",
      "-----------------------------------------------------------------------\n",
      "word:  $6 million | label_ : MONEY | explain : Monetary values, including unit\n",
      "-----------------------------------------------------------------------\n"
     ]
    }
   ],
   "source": [
    "from spacy.tokens import Span\n",
    "doc=nlp('CPRO to build a U.K. factory for $6 million')\n",
    "\n",
    "ORG=doc.vocab.strings[\"ORG\"]\n",
    "new_ent=Span(doc,0,1,label=ORG)\n",
    "show_ent(nlp('CPRO to build a U.K. factory for $6 million'))\n",
    "print(\"_____________________________________________________\")\n",
    "doc.ents=list(doc.ents)+[new_ent]\n",
    "show_ent(doc)\n"
   ]
  },
  {
   "cell_type": "code",
   "execution_count": null,
   "metadata": {},
   "outputs": [],
   "source": [
    "show_ent(nlp('CPRO to build a U.K. factory for $6 million'))\n",
    "\n",
    "\n",
    "\n",
    "\n",
    "\n",
    "from spacy.tokens import Span\n",
    "doc =nlp('CPRO to build a U.K. factory for $6 million')\n",
    "\n",
    "ORG = doc.vocab.strings[u'ORG']  \n",
    "new_ent = Span(doc, 0, 1, label=ORG)\n",
    "\n",
    "\n",
    "doc =nlp('CPRO to build a U.K. factory for $6 million')\n",
    "doc.ents = list(doc.ents) + [new_ent]\n",
    "\n",
    "show_ent(doc)\n",
    "\n",
    "\n",
    "\n",
    "     \n"
   ]
  },
  {
   "cell_type": "code",
   "execution_count": 57,
   "metadata": {},
   "outputs": [],
   "source": [
    "doc2 = nlp(u\"Autonomous cars shift insurance liability toward manufacturers.\")\n"
   ]
  },
  {
   "cell_type": "code",
   "execution_count": 60,
   "metadata": {},
   "outputs": [
    {
     "name": "stdout",
     "output_type": "stream",
     "text": [
      "chunk.word :  Autonomous cars\n",
      "chunk.root.text :  cars\n",
      "chunk.root.dep_ :  nsubj\n",
      "spacy.explain(chunk.root.dep_) :  nominal subject\n",
      "chunk.label :  3342607623747562680\n",
      "chunk.label_ :  NP\n",
      "spacy.explain(chunk.label_) :  noun phrase\n",
      "chunk.start :  0\n",
      "chunk.end :  2\n",
      "chunk.start_char :  0\n",
      "chunk.end_char :  15\n",
      "----------------------------------------------\n",
      "chunk.word :  insurance liability\n",
      "chunk.root.text :  liability\n",
      "chunk.root.dep_ :  dobj\n",
      "spacy.explain(chunk.root.dep_) :  direct object\n",
      "chunk.label :  3342607623747562680\n",
      "chunk.label_ :  NP\n",
      "spacy.explain(chunk.label_) :  noun phrase\n",
      "chunk.start :  3\n",
      "chunk.end :  5\n",
      "chunk.start_char :  22\n",
      "chunk.end_char :  41\n",
      "----------------------------------------------\n",
      "chunk.word :  manufacturers\n",
      "chunk.root.text :  manufacturers\n",
      "chunk.root.dep_ :  pobj\n",
      "spacy.explain(chunk.root.dep_) :  object of preposition\n",
      "chunk.label :  3342607623747562680\n",
      "chunk.label_ :  NP\n",
      "spacy.explain(chunk.label_) :  noun phrase\n",
      "chunk.start :  6\n",
      "chunk.end :  7\n",
      "chunk.start_char :  49\n",
      "chunk.end_char :  62\n",
      "----------------------------------------------\n"
     ]
    }
   ],
   "source": [
    "for chunk in doc2.noun_chunks:\n",
    "    print(\"chunk.word : \",chunk.text)\n",
    "    print(\"chunk.root.text : \",chunk.root.text)\n",
    "    print(\"chunk.root.dep_ : \",chunk.root.dep_)\n",
    "    print(\"spacy.explain(chunk.root.dep_) : \",spacy.explain(chunk.root.dep_))\n",
    "    print(\"chunk.label : \",chunk.label)\n",
    "    print(\"chunk.label_ : \",chunk.label_)\n",
    "    print(\"spacy.explain(chunk.label_) : \",spacy.explain(chunk.label_))\n",
    "    print(\"chunk.start : \",chunk.start)\n",
    "    print(\"chunk.end : \",chunk.end)\n",
    "    print(\"chunk.start_char : \",chunk.start_char)\n",
    "    print(\"chunk.end_char : \",chunk.end_char)\n",
    "    print('----------------------------------------------')"
   ]
  },
  {
   "cell_type": "code",
   "execution_count": null,
   "metadata": {},
   "outputs": [],
   "source": [
    "oc2 = nlp(u\"Autonomous cars shift insurance liability toward manufacturers.\")\n",
    "\n",
    "for chunk in doc2.noun_chunks:\n",
    "    print(chunk.text)\n",
    "    print(chunk.root.text)\n",
    "    print(chunk.root.dep_)\n",
    "    print(spacy.explain(chunk.root.dep_))\n",
    "    print(chunk.label)\n",
    "    print(chunk.label_)\n",
    "    print(spacy.explain(chunk.label_))\n",
    "    print(chunk.start)\n",
    "    print(chunk.end)\n",
    "    print(chunk.start_char)\n",
    "    print(chunk.end_char)\n",
    "    print('----------------------------------------------')\n"
   ]
  },
  {
   "cell_type": "code",
   "execution_count": 62,
   "metadata": {},
   "outputs": [],
   "source": [
    "doc4=nlp(\"مصر و فلسطين و سوريا\")"
   ]
  },
  {
   "cell_type": "code",
   "execution_count": 63,
   "metadata": {},
   "outputs": [
    {
     "name": "stdout",
     "output_type": "stream",
     "text": [
      "no REN\n"
     ]
    }
   ],
   "source": [
    "show_ent(doc4)"
   ]
  },
  {
   "cell_type": "code",
   "execution_count": null,
   "metadata": {},
   "outputs": [],
   "source": []
  },
  {
   "cell_type": "code",
   "execution_count": null,
   "metadata": {},
   "outputs": [],
   "source": []
  },
  {
   "cell_type": "code",
   "execution_count": null,
   "metadata": {},
   "outputs": [],
   "source": []
  },
  {
   "cell_type": "code",
   "execution_count": null,
   "metadata": {},
   "outputs": [],
   "source": []
  },
  {
   "cell_type": "code",
   "execution_count": null,
   "metadata": {},
   "outputs": [],
   "source": []
  },
  {
   "cell_type": "code",
   "execution_count": null,
   "metadata": {},
   "outputs": [],
   "source": []
  },
  {
   "cell_type": "code",
   "execution_count": null,
   "metadata": {},
   "outputs": [],
   "source": []
  },
  {
   "cell_type": "code",
   "execution_count": null,
   "metadata": {},
   "outputs": [],
   "source": [
    "\n"
   ]
  }
 ],
 "metadata": {
  "kernelspec": {
   "display_name": "Python 3",
   "language": "python",
   "name": "python3"
  },
  "language_info": {
   "codemirror_mode": {
    "name": "ipython",
    "version": 3
   },
   "file_extension": ".py",
   "mimetype": "text/x-python",
   "name": "python",
   "nbconvert_exporter": "python",
   "pygments_lexer": "ipython3",
   "version": "3.8.5"
  }
 },
 "nbformat": 4,
 "nbformat_minor": 4
}
